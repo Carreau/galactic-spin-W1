{
 "cells": [
  {
   "cell_type": "markdown",
   "metadata": {},
   "source": [
    "## Instructions\n",
    "Please be patient while waiting for the environment to load; it may take a few minutes. \n",
    "Once the notebook has finished loading, in the top bar, select `Kernel`--> `Restart & Run All`. \n",
    "Once cell has finished running, you should see a plot with  sliders appear at the bottom.\n",
    "Enjoy!"
   ]
  },
  {
   "cell_type": "code",
   "execution_count": 1,
   "metadata": {},
   "outputs": [
    {
     "data": {
      "application/vnd.jupyter.widget-view+json": {
       "model_id": "d6d5b0e05f6c4a9aa3b4f7ad73a421a3",
       "version_major": 2,
       "version_minor": 0
      },
      "text/plain": [
       "VBox(children=(Button(button_style='warning', description='Best Fit', icon='check', style=ButtonStyle()), Outp…"
      ]
     },
     "metadata": {},
     "output_type": "display_data"
    }
   ],
   "source": [
    "#Imports\n",
    "import sys;\n",
    "sys.path.append('python/')\n",
    "import NGC5533_widget as widget5533\n",
    "# Widget Output\n",
    "widget5533.VBox([widget5533.button,widget5533.out,widget5533.interactive_plot(widget5533.f)])"
   ]
  },
  {
   "cell_type": "code",
   "execution_count": 2,
   "metadata": {},
   "outputs": [
    {
     "data": {
      "application/vnd.jupyter.widget-view+json": {
       "model_id": "e650e42448aa4fbcb7c7fe33fce03237",
       "version_major": 2,
       "version_minor": 0
      },
      "text/plain": [
       "VBox(children=(Button(button_style='warning', description='Best Fit', icon='check', style=ButtonStyle()), Outp…"
      ]
     },
     "metadata": {},
     "output_type": "display_data"
    },
    {
     "data": {
      "image/png": "[encoded data removed]",
      "text/plain": [
       "<Figure size 792x432 with 1 Axes>"
      ]
     },
     "metadata": {
      "needs_background": "light"
     },
     "output_type": "display_data"
    }
   ],
   "source": [
    "import NGC5005_widget as widget5005\n",
    "# Widget Output\n",
    "widget5005.VBox([widget5005.button,widget5005.out,widget5005.interactive_plot(widget5005.f)])"
   ]
  },
  {
   "cell_type": "code",
   "execution_count": 3,
   "metadata": {},
   "outputs": [
    {
     "ename": "NameError",
     "evalue": "name 'wi' is not defined",
     "output_type": "error",
     "traceback": [
      "\u001b[1;31m---------------------------------------------------------------------------\u001b[0m",
      "\u001b[1;31mNameError\u001b[0m                                 Traceback (most recent call last)",
      "\u001b[1;32m<ipython-input-3-a5b55615547e>\u001b[0m in \u001b[0;36m<module>\u001b[1;34m\u001b[0m\n\u001b[1;32m----> 1\u001b[1;33m \u001b[1;32mimport\u001b[0m \u001b[0mNGC7814_widget\u001b[0m \u001b[1;32mas\u001b[0m \u001b[0mwidget7814\u001b[0m\u001b[1;33m\u001b[0m\u001b[1;33m\u001b[0m\u001b[0m\n\u001b[0m\u001b[0;32m      2\u001b[0m \u001b[1;31m# Widget Output\u001b[0m\u001b[1;33m\u001b[0m\u001b[1;33m\u001b[0m\u001b[1;33m\u001b[0m\u001b[0m\n\u001b[0;32m      3\u001b[0m \u001b[0mwidget7814\u001b[0m\u001b[1;33m.\u001b[0m\u001b[0mVBox\u001b[0m\u001b[1;33m(\u001b[0m\u001b[1;33m[\u001b[0m\u001b[0mwidget7814\u001b[0m\u001b[1;33m.\u001b[0m\u001b[0mbutton\u001b[0m\u001b[1;33m,\u001b[0m\u001b[0mwidget7814\u001b[0m\u001b[1;33m.\u001b[0m\u001b[0mout\u001b[0m\u001b[1;33m,\u001b[0m\u001b[0mwidget7814\u001b[0m\u001b[1;33m.\u001b[0m\u001b[0minteractive_plot\u001b[0m\u001b[1;33m(\u001b[0m\u001b[0mwidget7814\u001b[0m\u001b[1;33m.\u001b[0m\u001b[0mf\u001b[0m\u001b[1;33m)\u001b[0m\u001b[1;33m]\u001b[0m\u001b[1;33m)\u001b[0m\u001b[1;33m\u001b[0m\u001b[1;33m\u001b[0m\u001b[0m\n",
      "\u001b[1;32m~\\Documents\\galactic-spin-W1\\binder\\python\\NGC7814_widget.py\u001b[0m in \u001b[0;36m<module>\u001b[1;34m\u001b[0m\n\u001b[0;32m     45\u001b[0m \u001b[1;33m\u001b[0m\u001b[0m\n\u001b[0;32m     46\u001b[0m \u001b[1;31m#best fitted prefactor values for each component, to be used as default (initial) values for widget sliders\u001b[0m\u001b[1;33m\u001b[0m\u001b[1;33m\u001b[0m\u001b[1;33m\u001b[0m\u001b[0m\n\u001b[1;32m---> 47\u001b[1;33m \u001b[0mg_dict\u001b[0m \u001b[1;33m=\u001b[0m \u001b[0mwi\u001b[0m\u001b[1;33m.\u001b[0m\u001b[0mg_fit\u001b[0m\u001b[1;33m.\u001b[0m\u001b[0mbest_values\u001b[0m\u001b[1;33m\u001b[0m\u001b[1;33m\u001b[0m\u001b[0m\n\u001b[0m\u001b[0;32m     48\u001b[0m \u001b[0mbest_G\u001b[0m \u001b[1;33m=\u001b[0m \u001b[0mg_dict\u001b[0m\u001b[1;33m[\u001b[0m\u001b[1;34m'G'\u001b[0m\u001b[1;33m]\u001b[0m\u001b[1;33m\u001b[0m\u001b[1;33m\u001b[0m\u001b[0m\n\u001b[0;32m     49\u001b[0m \u001b[0mbest_B\u001b[0m \u001b[1;33m=\u001b[0m \u001b[0mg_dict\u001b[0m\u001b[1;33m[\u001b[0m\u001b[1;34m'B'\u001b[0m\u001b[1;33m]\u001b[0m\u001b[1;33m\u001b[0m\u001b[1;33m\u001b[0m\u001b[0m\n",
      "\u001b[1;31mNameError\u001b[0m: name 'wi' is not defined"
     ]
    }
   ],
   "source": [
    "import NGC7814_widget as widget7814\n",
    "# Widget Output\n",
    "widget7814.VBox([widget7814.button,widget7814.out,widget7814.interactive_plot(widget7814.f)])"
   ]
  },
  {
   "cell_type": "code",
   "execution_count": null,
   "metadata": {},
   "outputs": [],
   "source": [
    "import widget4 as widget4\n",
    "# Widget Output\n",
    "widget4.VBox([widget4.button,widget4.out,widget4.interactive_plot(widget4.f)])"
   ]
  },
  {
   "cell_type": "markdown",
   "metadata": {},
   "source": [
    "## Slider Key\n",
    "\n",
    "The prefactor for the **black hole** is the square root of its mass. \n",
    "Because it is more physically meaningful and not computationally intensive, we have you control the mass of the black hole rather than the prefactor itself.\n",
    "The units of the black hole's mass are solar masses (multiply the value by the mass of our Sun. Note that 'e+9' equates to a billion--that's a billion solar masses!).\n",
    "\n",
    "The prefactors for the **bulge** and the **disk** relate to the mass-to-light ratio.\n",
    "A prefactor of one means that you are using the M/L we generally expect from stars, and increasing the prefactor means increasing the expected mass for a given amount of light. \n",
    "\n",
    "The halo surface density behaves as a prefactor for the **dark matter \"halo\"** in and around the galaxy. \n",
    "Its units are solar masses per cubic parsec (and in this fit is on the scale of hundreds of millions).\n",
    "This represents how much dark matter we think there is overall. \n",
    "\n",
    "The **gas** prefactor is similar to the bulge and disk prefactors. \n",
    "Rather than being for a stellar M/L, it representss the amount of radiation emitted by interstellar gas. \n",
    "A value of 1 means using the expected amount of radiation, and increasing the prefactor means increasing the expected mass for a given amount of radiation (note that this is why the gas component is kept static during fitting, as increasing or decreasing the gas prefactor would be digressing from the known physical laws of H1 emissions)."
   ]
  }
 ],
 "metadata": {
  "kernelspec": {
   "display_name": "Python 3",
   "language": "python",
   "name": "python3"
  },
  "language_info": {
   "codemirror_mode": {
    "name": "ipython",
    "version": 3
   },
   "file_extension": ".py",
   "mimetype": "text/x-python",
   "name": "python",
   "nbconvert_exporter": "python",
   "pygments_lexer": "ipython3",
   "version": "3.8.3"
  }
 },
 "nbformat": 4,
 "nbformat_minor": 4
}
