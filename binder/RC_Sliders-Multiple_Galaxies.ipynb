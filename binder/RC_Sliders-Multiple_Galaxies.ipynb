{
 "cells": [
  {
   "cell_type": "markdown",
   "metadata": {},
   "source": [
    "## Instructions\n",
    "Please be patient while waiting for the environment to load; it may take a few minutes. \n",
    "Once the notebook has finished loading, in the top bar, select `Kernel`--> `Restart & Run All`. \n",
    "Once cell has finished running, you should see a plot with  sliders appear at the bottom.\n",
    "Enjoy!"
   ]
  },
  {
   "cell_type": "code",
   "execution_count": 1,
   "metadata": {},
   "outputs": [
    {
     "data": {
      "application/vnd.jupyter.widget-view+json": {
       "model_id": "9c9f28d12444466784537f2ff85790ca",
       "version_major": 2,
       "version_minor": 0
      },
      "text/plain": [
       "VBox(children=(Button(button_style='warning', description='Best Fit', icon='check', style=ButtonStyle()), Outp…"
      ]
     },
     "metadata": {},
     "output_type": "display_data"
    }
   ],
   "source": [
    "#Imports\n",
    "import sys;\n",
    "sys.path.append('python/')\n",
    "import NGC5533_widget as widget5533\n",
    "# Widget Output\n",
    "widget5533.VBox([widget5533.button,widget5533.out,widget5533.interactive_plot(widget5533.f)])"
   ]
  },
  {
   "cell_type": "code",
   "execution_count": 2,
   "metadata": {},
   "outputs": [
    {
     "ename": "TypeError",
     "evalue": "__init__() takes from 2 to 3 positional arguments but 5 were given",
     "output_type": "error",
     "traceback": [
      "\u001b[1;31m---------------------------------------------------------------------------\u001b[0m",
      "\u001b[1;31mTypeError\u001b[0m                                 Traceback (most recent call last)",
      "\u001b[1;32m<ipython-input-2-1c8b9f4738ca>\u001b[0m in \u001b[0;36m<module>\u001b[1;34m\u001b[0m\n\u001b[1;32m----> 1\u001b[1;33m \u001b[1;32mimport\u001b[0m \u001b[0mNGC5005_widget\u001b[0m \u001b[1;32mas\u001b[0m \u001b[0mwidget5005\u001b[0m\u001b[1;33m\u001b[0m\u001b[1;33m\u001b[0m\u001b[0m\n\u001b[0m\u001b[0;32m      2\u001b[0m \u001b[1;31m# Widget Output\u001b[0m\u001b[1;33m\u001b[0m\u001b[1;33m\u001b[0m\u001b[1;33m\u001b[0m\u001b[0m\n\u001b[0;32m      3\u001b[0m \u001b[0mwidget5005\u001b[0m\u001b[1;33m.\u001b[0m\u001b[0mVBox\u001b[0m\u001b[1;33m(\u001b[0m\u001b[1;33m[\u001b[0m\u001b[0mwidget5005\u001b[0m\u001b[1;33m.\u001b[0m\u001b[0mbutton\u001b[0m\u001b[1;33m,\u001b[0m\u001b[0mwidget5005\u001b[0m\u001b[1;33m.\u001b[0m\u001b[0mout\u001b[0m\u001b[1;33m,\u001b[0m\u001b[0mwidget5005\u001b[0m\u001b[1;33m.\u001b[0m\u001b[0minteractive_plot\u001b[0m\u001b[1;33m(\u001b[0m\u001b[0mwidget5005\u001b[0m\u001b[1;33m.\u001b[0m\u001b[0mf\u001b[0m\u001b[1;33m)\u001b[0m\u001b[1;33m]\u001b[0m\u001b[1;33m)\u001b[0m\u001b[1;33m\u001b[0m\u001b[1;33m\u001b[0m\u001b[0m\n",
      "\u001b[1;32m~\\Documents\\GitHub\\galactic-spin-W1\\binder\\python\\NGC5005_widget.py\u001b[0m in \u001b[0;36m<module>\u001b[1;34m\u001b[0m\n\u001b[0;32m    159\u001b[0m \u001b[1;33m\u001b[0m\u001b[0m\n\u001b[0;32m    160\u001b[0m \u001b[1;31m# displaying button and its output together\u001b[0m\u001b[1;33m\u001b[0m\u001b[1;33m\u001b[0m\u001b[1;33m\u001b[0m\u001b[0m\n\u001b[1;32m--> 161\u001b[1;33m \u001b[0mVBox\u001b[0m\u001b[1;33m(\u001b[0m\u001b[1;33m[\u001b[0m\u001b[0mbutton\u001b[0m\u001b[1;33m,\u001b[0m\u001b[0mout\u001b[0m\u001b[1;33m,\u001b[0m\u001b[0minteractive_plot\u001b[0m\u001b[1;33m(\u001b[0m\u001b[0mf\u001b[0m\u001b[1;33m)\u001b[0m\u001b[1;33m]\u001b[0m\u001b[1;33m)\u001b[0m\u001b[1;33m\u001b[0m\u001b[1;33m\u001b[0m\u001b[0m\n\u001b[0m",
      "\u001b[1;32m~\\Documents\\GitHub\\galactic-spin-W1\\binder\\python\\NGC5005_widget.py\u001b[0m in \u001b[0;36minteractive_plot\u001b[1;34m(f)\u001b[0m\n\u001b[0;32m    139\u001b[0m                                \u001b[0mrho0\u001b[0m \u001b[1;33m=\u001b[0m \u001b[0mrho0\u001b[0m\u001b[1;33m,\u001b[0m\u001b[1;33m\u001b[0m\u001b[1;33m\u001b[0m\u001b[0m\n\u001b[0;32m    140\u001b[0m \u001b[1;33m\u001b[0m\u001b[0m\n\u001b[1;32m--> 141\u001b[1;33m                                continuous_update=False)\n\u001b[0m\u001b[0;32m    142\u001b[0m     \u001b[1;32mreturn\u001b[0m \u001b[0minteract\u001b[0m\u001b[1;33m\u001b[0m\u001b[1;33m\u001b[0m\u001b[0m\n\u001b[0;32m    143\u001b[0m \u001b[1;33m\u001b[0m\u001b[0m\n",
      "\u001b[1;31mTypeError\u001b[0m: __init__() takes from 2 to 3 positional arguments but 5 were given"
     ]
    }
   ],
   "source": [
    "import NGC5005_widget as widget5005\n",
    "# Widget Output\n",
    "widget5005.VBox([widget5005.button,widget5005.out,widget5005.interactive_plot(widget5005.f)])"
   ]
  },
  {
   "cell_type": "code",
   "execution_count": null,
   "metadata": {},
   "outputs": [],
   "source": [
    "import NGC7814_widget as widget7814\n",
    "# Widget Output\n",
    "widget7814.VBox([widget7814.button,widget7814.out,widget7814.interactive_plot(widget7814.f)])"
   ]
  },
  {
   "cell_type": "code",
   "execution_count": null,
   "metadata": {},
   "outputs": [],
   "source": [
    "import widget4 as widget4\n",
    "# Widget Output\n",
    "widget4.VBox([widget4.button,widget4.out,widget4.interactive_plot(widget4.f)])"
   ]
  },
  {
   "cell_type": "markdown",
   "metadata": {},
   "source": [
    "## Slider Key\n",
    "\n",
    "The prefactor for the **black hole** is the square root of its mass. \n",
    "Because it is more physically meaningful and not computationally intensive, we have you control the mass of the black hole rather than the prefactor itself.\n",
    "The units of the black hole's mass are solar masses (multiply the value by the mass of our Sun. Note that 'e+9' equates to a billion--that's a billion solar masses!).\n",
    "\n",
    "The prefactors for the **bulge** and the **disk** relate to the mass-to-light ratio.\n",
    "A prefactor of one means that you are using the M/L we generally expect from stars, and increasing the prefactor means increasing the expected mass for a given amount of light. \n",
    "\n",
    "The halo surface density behaves as a prefactor for the **dark matter \"halo\"** in and around the galaxy. \n",
    "Its units are solar masses per cubic parsec (and in this fit is on the scale of hundreds of millions).\n",
    "This represents how much dark matter we think there is overall. \n",
    "\n",
    "The **gas** prefactor is similar to the bulge and disk prefactors. \n",
    "Rather than being for a stellar M/L, it representss the amount of radiation emitted by interstellar gas. \n",
    "A value of 1 means using the expected amount of radiation, and increasing the prefactor means increasing the expected mass for a given amount of radiation (note that this is why the gas component is kept static during fitting, as increasing or decreasing the gas prefactor would be digressing from the known physical laws of H1 emissions)."
   ]
  }
 ],
 "metadata": {
  "kernelspec": {
   "display_name": "Python 3",
   "language": "python",
   "name": "python3"
  },
  "language_info": {
   "codemirror_mode": {
    "name": "ipython",
    "version": 3
   },
   "file_extension": ".py",
   "mimetype": "text/x-python",
   "name": "python",
   "nbconvert_exporter": "python",
   "pygments_lexer": "ipython3",
   "version": "3.7.1"
  }
 },
 "nbformat": 4,
 "nbformat_minor": 4
}
