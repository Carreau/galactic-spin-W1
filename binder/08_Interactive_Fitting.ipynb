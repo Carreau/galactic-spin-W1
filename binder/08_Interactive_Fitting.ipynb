{
 "cells": [
  {
   "cell_type": "markdown",
   "metadata": {
    "tags": []
   },
   "source": [
    "### Instructions"
   ]
  },
  {
   "cell_type": "markdown",
   "metadata": {
    "tags": []
   },
   "source": [
    "When running the notebook the first time, make sure to run all cells before making changes in the notebook. Hit Shift + Enter to run the selected cell or, in the top menu, click on: `Kernel` > `Restart Kernel and Run All Cells...` to rerun the whole notebook. If you make any changes in a cell, rerun that cell.\n",
    "\n",
    "If you make any changes in a coding cell, rerun the notebook by `Run` > `Run Selected Cell and All Below`"
   ]
  },
  {
   "cell_type": "code",
   "execution_count": 1,
   "metadata": {},
   "outputs": [],
   "source": [
    "# Import dependencies \n",
    "import sys\n",
    "sys.path.append('python/')\n",
    "import time\n",
    "startTime = time.time()\n",
    "import numpy as np\n",
    "import matplotlib.pyplot as plt \n",
    "import load_galaxies as lg\n",
    "import matplotlib.image as mpimg\n",
    "import lmfit as lm\n",
    "import scipy.integrate as si             # Python module for integration"
   ]
  },
  {
   "cell_type": "markdown",
   "metadata": {},
   "source": [
    "# Fitting"
   ]
  },
  {
   "cell_type": "markdown",
   "metadata": {},
   "source": [
    "For this next activity, select one of four galaxies, import the pre-calculated rotation curves of all components and find the scaling factors by fitting the components to the measured velocity data. The Dark Matter component has two free parameters: one that changes the amplitude ($\\rho_0$: central mass density) and the other that changes the shape of the curve ($r_c$: core radius). All other components (bulge,disk,gas) have only one free parameter. Let's import all the data and curves and define some functions for the fitting. "
   ]
  },
  {
   "cell_type": "markdown",
   "metadata": {},
   "source": [
    "### Choose your galaxy"
   ]
  },
  {
   "cell_type": "markdown",
   "metadata": {},
   "source": [
    "![A poster. The header reads, \"CHOOSE: WHICH GALAXY\". Below are four boxes, each contianing a galaxy name, an image of said galaxy, and some stats about the galaxy. The options are: NGC 5005, AKA Caldwell 29, Distance: 45 MLY, Size: 55,000 LY, Constellation: Canes Venatici; NGC 5533, An Unbarred Spiral Galaxy, Distance: 177 MLY, Size: 50,000 LY, Constellation: Bootes; NGC 7814, A Bulge-Dominant Galaxy, Distance: 40 MLY, Size: 80,000 LY, Constellation: Pegasus; and NGC 891, A Disk-Dominant Galaxy, Distance: 27.3 MLY, Size: 120,000 LY, Constellation: Andromeda.](images/chooseWhichGalaxy.jpg)"
   ]
  },
  {
   "cell_type": "code",
   "execution_count": 2,
   "metadata": {},
   "outputs": [],
   "source": [
    "galaxy = lg.NGC5005            # Options: lg.NGC5005 , lg.NGC5533 , lg.NGC7814 , lg.NGC0891"
   ]
  },
  {
   "cell_type": "markdown",
   "metadata": {},
   "source": [
    "### Import data and curves"
   ]
  },
  {
   "cell_type": "code",
   "execution_count": 3,
   "metadata": {},
   "outputs": [],
   "source": [
    "# Measured data\n",
    "measured_data = galaxy['measured_data']\n",
    "\n",
    "# Separate the columns into arrays\n",
    "m_radii = galaxy['m_radii']           # Radius\n",
    "m_velocities = galaxy['m_velocities'] # Velocity\n",
    "m_v_errors = galaxy['m_v_errors']     # Errors in velocity\n",
    "\n",
    "# Velocity equation for the central supermassive black hole (only for NGC 5533)\n",
    "massbh = galaxy['massbh']            # Mass of the central black hole in (solar mass)\n",
    "G = 4.300e-6                         # Gravitational constant (kpc/solar mass*(km/s)^2)\n",
    "\n",
    "# Central black hole rotation curve (point-mass)\n",
    "def blackhole_v(r,massbh):\n",
    "    return np.sqrt((G*massbh)/r)\n",
    "\n",
    "# Import curves of each component\n",
    "# Bulge\n",
    "bulge_v = galaxy['bulge']['spline']\n",
    "# Disk\n",
    "disk_v = galaxy['disk']['spline']\n",
    "# Gas\n",
    "gas_v = galaxy['gas']['spline']"
   ]
  },
  {
   "cell_type": "markdown",
   "metadata": {},
   "source": [
    "### Calculate the rotational velocity of the Dark Matter halo component"
   ]
  },
  {
   "cell_type": "markdown",
   "metadata": {},
   "source": [
    "For more details, see `04_Plotting_Rotation_Curves.ipynb`."
   ]
  },
  {
   "cell_type": "code",
   "execution_count": 4,
   "metadata": {},
   "outputs": [],
   "source": [
    "# Set parameters\n",
    "rho0 = galaxy['rho0']   # central mass density (in solar mass/kpc^3)\n",
    "rc = galaxy['rc']       # core radius (in kpc)\n",
    "\n",
    "# Equation for dark matter halo velocity\n",
    "def halo_v(r,rho0,rc):\n",
    "    v = np.sqrt(4*np.pi*G*rho0*rc**2*(1 - rc/r * np.arctan(r/rc)))\n",
    "    return v"
   ]
  },
  {
   "cell_type": "markdown",
   "metadata": {},
   "source": [
    "### Define functions and values"
   ]
  },
  {
   "cell_type": "code",
   "execution_count": 5,
   "metadata": {},
   "outputs": [],
   "source": [
    "# Express weight\n",
    "weighdata = 1/m_v_errors\n",
    "\n",
    "# Define function for total velocity with prefactors (scaling parameters)\n",
    "def total_v_pref(r,massbh,bulge_pref,disk_pref,gas_pref,rho0,rc):\n",
    "    return np.sqrt(blackhole_v(r,massbh)**2\n",
    "                   + (bulge_pref * bulge_v(r))**2 \n",
    "                   + (disk_pref * disk_v(r))**2 \n",
    "                   + (gas_pref * gas_v(r))**2\n",
    "                   + (halo_v(r,rho0,rc)**2))\n",
    "\n",
    "# Define function for total velocity with prefactors (scaling parameters), with no dark matter\n",
    "def total_v_pref_noDM(r,massbh,bulge_pref,disk_pref,gas_pref):\n",
    "    return np.sqrt(blackhole_v(r,massbh)**2\n",
    "                   + (bulge_pref * bulge_v(r))**2 \n",
    "                   + (disk_pref * disk_v(r))**2 \n",
    "                   + (gas_pref * gas_v(r))**2)"
   ]
  },
  {
   "cell_type": "markdown",
   "metadata": {},
   "source": [
    "### Fitting parameters"
   ]
  },
  {
   "cell_type": "markdown",
   "metadata": {},
   "source": [
    "<div class=\"alert-info\">Activity 1)</div>\n",
    "\n",
    ">Free parameters can be varied during the fit. Turn these off and on by changing `vary=True` to `vary=False` or `vary=False` to `vary=True` to see how your results of the fit change in the plot and for the fit statistics displayed below. Notice that the Dark Matter halo has two free parameters: `rho0` and `rc` that changes the amplitude and the shape, respectively. Vary one of these parameters and fix (`vary=False`) the other and note the difference.\n",
    "\n",
    "<div class=\"alert-info\">Activity 2)</div>\n",
    "\n",
    ">Now, use the total velocity equation without Dark Matter (`total_v_pref_noDM` equation) and find the fitting parameters. Make sure to comment out (put a `#` in front of) the lines: `f_params.add('rc'...` and `f_params.add('rho0'...` because these are parameters for the Dark Matter halo.<br>\n",
    "\n",
    "_Python help: to use a different equation for the fitting, change the line: f\\_mod = lm.Model(equation)._"
   ]
  },
  {
   "cell_type": "code",
   "execution_count": 6,
   "metadata": {},
   "outputs": [],
   "source": [
    "# Setup \n",
    "f_mod = lm.Model(total_v_pref)               # using the equation with Dark Matter for the fitting\n",
    "#f_mod = lm.Model(total_v_pref_noDM)         # using the equation without Dark Matter for the fitting\n",
    "f_params = f_mod.make_params()               # define parameters\n",
    "\n",
    "# Dark Matter halo\n",
    "f_params.add('rc',         vary=True,  value=rc,     min=0.1)         # core radius (kpc)\n",
    "f_params.add('rho0',       vary=True,  value=rho0,   min=0)           # central halo density (solar mass/kpc^3)\n",
    "\n",
    "# Black Hole\n",
    "f_params.add('massbh',     vary=True,  value=massbh, min=massbh)      # mass of central black hole\n",
    "\n",
    "# Bulge\n",
    "f_params.add('bulge_pref', vary=True,  value=1,      min=0,max=100)   # bulge prefactor\n",
    "\n",
    "# Disk\n",
    "f_params.add('disk_pref',  vary=True,  value=1,      min=0,max=100)   # disk prefactor\n",
    "\n",
    "# Gas\n",
    "f_params.add('gas_pref',   vary=False, value=1,      min=.8,max=1.2)  # gas prefactor"
   ]
  },
  {
   "cell_type": "markdown",
   "metadata": {},
   "source": [
    "### Do the fitting"
   ]
  },
  {
   "cell_type": "markdown",
   "metadata": {},
   "source": [
    "Let Python calculate the fitting parameters and display the fit statistics. Examine the results for the values of each variable. "
   ]
  },
  {
   "cell_type": "code",
   "execution_count": 7,
   "metadata": {},
   "outputs": [
    {
     "data": {
      "text/html": [
       "<h2> Model</h2> Model(total_v_pref) <h2>Fit Statistics</h2><table><tr><td>fitting method</td><td>leastsq</td><td></td></tr><tr><td># function evals</td><td>49</td><td></td></tr><tr><td># data points</td><td>18</td><td></td></tr><tr><td># variables</td><td>5</td><td></td></tr><tr><td>chi-square</td><td> 0.52300045</td><td></td></tr><tr><td>reduced chi-square</td><td> 0.04023080</td><td></td></tr><tr><td>Akaike info crit.</td><td>-53.6938047</td><td></td></tr><tr><td>Bayesian info crit.</td><td>-49.2419459</td><td></td></tr></table><h2>Variables</h2><table><tr><th> name </th><th> value </th><th> initial value </th><th> min </th><th> max </th><th> vary </th></tr><tr><td> massbh </td><td>  0.00000000 </td><td> 0 </td><td>  0.00000000 </td><td>         inf </td><td> True </td></tr><tr><td> bulge_pref </td><td>  0.95515418 </td><td> 1 </td><td>  0.00000000 </td><td>  100.000000 </td><td> True </td></tr><tr><td> disk_pref </td><td>  1.09035912 </td><td> 1 </td><td>  0.00000000 </td><td>  100.000000 </td><td> True </td></tr><tr><td> gas_pref </td><td>  1.00000000 </td><td> 1 </td><td>  0.80000000 </td><td>  1.20000000 </td><td> False </td></tr><tr><td> rho0 </td><td>  49643940.1 </td><td> 16930000.0 </td><td>  0.00000000 </td><td>         inf </td><td> True </td></tr><tr><td> rc </td><td>  4.21163625 </td><td> 9.917 </td><td>  0.10000000 </td><td>         inf </td><td> True </td></tr></table>"
      ],
      "text/plain": [
       "<lmfit.model.ModelResult at 0x1e208733370>"
      ]
     },
     "execution_count": 7,
     "metadata": {},
     "output_type": "execute_result"
    }
   ],
   "source": [
    "f_fit = f_mod.fit(m_velocities, f_params, r = m_radii, weights = weighdata)\n",
    "\n",
    "# Show fit statistics\n",
    "f_fit"
   ]
  },
  {
   "cell_type": "markdown",
   "metadata": {
    "tags": []
   },
   "source": [
    "#### Chi-square $\\chi^2$:\n",
    "\n",
    "The chi-squared value is an indication of the goodness of your fit or how well the observed and expected data agree. A zero chi-squared value is a perfect fit (data points connected with a line). This may seem ideal on the surface, but it can indicate a nonphysical system and is highly unlikely. The value of chi-squared is \"the number of observed points minus the number of parameters computed from the data and used in the calculation\" (Taylor, 1997).\n",
    "\n",
    "\n",
    "#### Reduced chi-square:\n",
    "The reduced chi-squared value is the chi-squared value divided by the degrees of freedom. In general, we would want this value to be close to 1 to be a good fit. "
   ]
  },
  {
   "cell_type": "markdown",
   "metadata": {},
   "source": [
    "### Define parameters for plotting"
   ]
  },
  {
   "cell_type": "code",
   "execution_count": 8,
   "metadata": {},
   "outputs": [],
   "source": [
    "# Define curve of the best fit\n",
    "bestf = f_fit.best_fit\n",
    "\n",
    "# Define radius for plotting\n",
    "r_lowerlim = np.min(m_radii)                       # limit the radius to the min value of the measured radius\n",
    "if r_lowerlim == 0:                                # getting rid of dividing by zero error\n",
    "    r_lowerlim = 0.01\n",
    "r_upperlim = np.max(m_radii)                       # limit the radius to the max value of the measured radius\n",
    "r = np.linspace(r_lowerlim,r_upperlim,100)         # starting from zero results in a divide by zero error"
   ]
  },
  {
   "cell_type": "markdown",
   "metadata": {},
   "source": [
    "### Plot result"
   ]
  },
  {
   "cell_type": "markdown",
   "metadata": {},
   "source": [
    "<div class=\"alert-info\">Activity 3)</div>\n",
    "\n",
    "> Zoom into the graph by changing the limits of the x-axis to see how well the total curve lines up with the measured points. For example: `plt.xlim(0,5)`"
   ]
  },
  {
   "cell_type": "code",
   "execution_count": 9,
   "metadata": {},
   "outputs": [
    {
     "data": {
      "image/png": "[encoded data removed]",
      "text/plain": [
       "<Figure size 720x504 with 1 Axes>"
      ]
     },
     "metadata": {
      "needs_background": "light"
     },
     "output_type": "display_data"
    }
   ],
   "source": [
    "plt.figure(figsize=(10.0,7.0))                                     # size of the plot\n",
    "plt.title('{} Fitting'.format(galaxy['galaxyname']), fontsize=14)  # giving the plot a title\n",
    "plt.xlabel('Radius (kpc)', fontsize=12)                            # labeling the x-axis\n",
    "plt.ylabel('Velocity (km/s)', fontsize=12)                         # labeling the y-axis\n",
    "plt.xlim(0,r_upperlim)                                             # limits of the x-axis\n",
    "plt.ylim(0,450)                                                    # limits of the y-axis\n",
    "plt.errorbar(m_radii,m_velocities,yerr=m_v_errors,fmt='bo')        # plot measured data points\n",
    "plt.plot(m_radii,bestf, color='r', label='Best fit - Total curve after fitting')    # plot the best fit to the data points\n",
    "plt.plot(r,total_v_pref(r,massbh=massbh,bulge_pref=1,disk_pref=1,gas_pref=1,rho0=rho0,rc=rc), \\\n",
    "         color='darkviolet', label='Total curve before fitting - with Dark Matter')   \n",
    "plt.plot(r,total_v_pref_noDM(r,massbh=massbh,bulge_pref=1,disk_pref=1,gas_pref=1), \\\n",
    "         color='gold', label='Total curve before fitting - without Dark Matter')\n",
    "plt.legend(bbox_to_anchor=(1,1), loc=\"upper left\")\n",
    "plt.show()"
   ]
  },
  {
   "cell_type": "markdown",
   "metadata": {},
   "source": [
    "### Calculate the total mass of the Dark Matter"
   ]
  },
  {
   "cell_type": "markdown",
   "metadata": {},
   "source": [
    "<div class=\"alert-info\">Activity 4)</div>\n",
    "\n",
    ">Using the equation for the mass as a function of radius, $M(r)$ (see _04\\_Plotting\\_Rotation\\_Curves.ipynb_ module), calculate the total mass of Dark Matter enclosed within the given radius. For the mass density profile, $\\rho (r)$ function, use the isothermal density distribution.\n",
    "\n",
    "<div class=\"alert-info\">Activity 5)</div>\n",
    "\n",
    ">Change the radius interval to see how much the total mass of the Dark Matter enclosed in that radius changes.<br>\n",
    "\n",
    "_Python help: Modify the inner radius by changing the line: `r1 = `, the outer radius by changing the line: `r2 = `_"
   ]
  },
  {
   "cell_type": "code",
   "execution_count": 10,
   "metadata": {},
   "outputs": [
    {
     "name": "stdout",
     "output_type": "stream",
     "text": [
      "Total mass of the Dark Matter between the radius values of 0 and 25 kpc is 2.755e+11 solar masses.\n"
     ]
    }
   ],
   "source": [
    "# Set parameters\n",
    "rho0 = galaxy['rho0']   # central mass density (in solar mass/kpc^3)\n",
    "rc = galaxy['rc']       # core radius (in kpc)\n",
    "\n",
    "# Radius at which we are calculating the total mass enclosed\n",
    "r1 = 0    # inner radius, in kpc\n",
    "r2 = 25   # outer radius, in kpc\n",
    "\n",
    "# Equation for isothermal density\n",
    "def density_iso(r):\n",
    "    density = rho0 * (1 + (r/rc)**2)**(-1)\n",
    "    return density\n",
    "\n",
    "# Equation for mass as a function of radius\n",
    "def mass_function(r):\n",
    "    mass = 4 * np.pi * density_iso(r) * r**2\n",
    "    return mass\n",
    "\n",
    "# Integrate to calculate total mass enclosed\n",
    "totalmass = si.quad(mass_function, r1, r2)[0]\n",
    "\n",
    "# Total mass\n",
    "print(\"Total mass of the Dark Matter between the radius values of {} and {} kpc is {:.3e} solar masses.\".format(r1,r2,totalmass))"
   ]
  },
  {
   "cell_type": "markdown",
   "metadata": {},
   "source": [
    "<div class=\"alert-info\">Activity 6)</div>\n",
    "\n",
    ">Out of the four galaxies, which one has more Dark Matter within the given radius?<br>"
   ]
  },
  {
   "cell_type": "code",
   "execution_count": 11,
   "metadata": {},
   "outputs": [
    {
     "name": "stdout",
     "output_type": "stream",
     "text": [
      "Execution time: 0.02 minutes\n"
     ]
    }
   ],
   "source": [
    "# Time\n",
    "executionTime = (time.time() - startTime)\n",
    "ttt=executionTime/60\n",
    "print(f'Execution time: {ttt:.2f} minutes')"
   ]
  },
  {
   "cell_type": "markdown",
   "metadata": {},
   "source": [
    "### References <br>"
   ]
  },
  {
   "cell_type": "markdown",
   "metadata": {},
   "source": [
    ">Casertano, Stefano. **Rotation curve of the edge-on spiral galaxy NGC 5907: disc and halo masses.** _Monthly Notices of the Royal Astronomical Society_ 203, no. 3 (1983): 735-747. https://doi.org/10.1093/mnras/203.3.735. <br><br>\n",
    ">Fraternali, F., R. Sancisi, and P. Kamphuis. **A Tale of Two Galaxies: Light and Mass in NGC 891 and NGC 7814.** Astronomy &amp; Astrophysics 531 (June 13, 2011). https://doi.org/10.1051/0004-6361/201116634.<br><br> \n",
    ">Jimenez, Raul, Licia Verde, and S. Peng Oh. **Dark halo properties from rotation curves.** _Monthly Notices of the Royal Astronomical Society_ 339, no. 1 (2003): 243-259. https://doi.org/10.1046/j.1365-8711.2003.06165.x. <br><br>\n",
    ">Kapteyn Institute. (n.d.). Groningen Image Processing System. **GIPSY, the GRONINGEN image processing system.** https://www.astro.rug.nl/~gipsy/index.html. <br><br>\n",
    ">Karukes, E. V., P. Salucci, and Gianfranco Gentile. **The dark matter distribution in the spiral NGC 3198 out to 0.22 $R_{vir}$.** _Astronomy & Astrophysics_ 578 (2015): A13. https://doi.org/10.1051/0004-6361/201425339. <br><br>\n",
    ">Noordermeer, Edo. **The rotation curves of flattened Sérsic bulges.** _Monthly Notices of the Royal Astronomical Society_ 385, no. 3 (2007): 1359-1364. https://doi.org/10.1111/j.1365-2966.2008.12837.x. <br><br>\n",
    ">Richards, Emily E., L. van Zee, K. L. Barnes, S. Staudaher, D. A. Dale, T. T. Braun, D. C. Wavle, et al. **Baryonic Distributions in the Dark Matter Halo of NGC 5005.** Monthly Notices of the Royal Astronomical Society 449, no. 4 (June 1, 2015): 3981–96. https://doi.org/10.1093/mnras/stv568. <br><br>\n",
    ">Taylor, John Robert. **An Introduction to Error Analysis: The Study of Uncertainties in Physical Measurements.** 2nd ed. United States of America: University Science Books, 1997. \n",
    "***"
   ]
  }
 ],
 "metadata": {
  "kernelspec": {
   "display_name": "Python 3 (ipykernel)",
   "language": "python",
   "name": "python3"
  },
  "language_info": {
   "codemirror_mode": {
    "name": "ipython",
    "version": 3
   },
   "file_extension": ".py",
   "mimetype": "text/x-python",
   "name": "python",
   "nbconvert_exporter": "python",
   "pygments_lexer": "ipython3",
   "version": "3.9.7"
  }
 },
 "nbformat": 4,
 "nbformat_minor": 4
}
