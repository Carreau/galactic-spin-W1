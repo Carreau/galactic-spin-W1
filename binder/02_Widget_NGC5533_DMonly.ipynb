{
 "cells": [
  {
   "cell_type": "markdown",
   "metadata": {},
   "source": [
    "### Instructions"
   ]
  },
  {
   "cell_type": "markdown",
   "metadata": {},
   "source": [
    "Please be patient while waiting for the environment to load; it may take a few minutes. \n",
    "Once the notebook has finished loading, in the top bar, select `Kernel`--> `Restart Kernel and Run All Cells`. \n",
    "Once the notebook has finished running, you should see a plot with sliders appear at the bottom.\n",
    "\n",
    "If you make any changes in a coding cell, rerun the notebook by `Run` > `Run Selected Cell and All Below`\n",
    "\n",
    "Enjoy!"
   ]
  },
  {
   "cell_type": "code",
   "execution_count": 1,
   "metadata": {},
   "outputs": [],
   "source": [
    "# Importing libraries and dependencies\n",
    "import sys\n",
    "sys.path.append('python/')\n",
    "import load_galaxies as galdata\n",
    "import components as comp                      # Functions for galaxy components.\n",
    "import dataPython as dp\n",
    "\n",
    "import numpy as np\n",
    "import matplotlib.pyplot as plt                # Plotting\n",
    "%matplotlib inline\n",
    "\n",
    "import scipy.integrate as si                   # Integration\n",
    "from ipywidgets import interactive, fixed, FloatSlider, HBox, Layout, Button, Label, Output, VBox\n",
    "from IPython.display import display, clear_output\n",
    "from IPython.display import Javascript\n",
    "\n",
    "import scipy.stats as stats\n",
    "import warnings\n",
    "warnings.filterwarnings(\"ignore\")              # Ignore warnings"
   ]
  },
  {
   "cell_type": "markdown",
   "metadata": {},
   "source": [
    "# Introduction to Dark Matter"
   ]
  },
  {
   "cell_type": "markdown",
   "metadata": {},
   "source": [
    "If luminous matter was the only matter in spiral galaxies, then the rotation curves would resemble that of planet-like, or Keplerian, motion. Since the rotation curves of some spiral galaxies are flat, we can infer that there is \"missing\" matter that is not interacting with light but affecting the velocity of stars and gas. We call this missing matter \"dark matter.\" <br>\n",
    "According to Newton's law of gravitation, gravitational force on an object is proportional to the mass interacting with it, and therefore the motion of matter in a galaxy is also proportional to this mass. \n",
    "Setting the gravitational force and the centripetal force equal, the rotational velocity can be computed in terms of mass ($M$) and distance ($r$) from the center. \n",
    "\n",
    ">__Newton's Law of Gravitation__: <br>\n",
    "    \\begin{equation}\n",
    "    F_g = G \\frac{Mm}{r^2}\n",
    "    \\end{equation}<br>\n",
    ">__Centripetal Force__: <br>\n",
    "    \\begin{equation}\n",
    "    F_c = \\frac{mv^2}{r}\n",
    "    \\end{equation}<br>\n",
    ">__Rotational velocity__: <br>\n",
    "    \\begin{equation}\n",
    "    v = \\sqrt{\\frac{GM}{r}}\n",
    "    \\end{equation}<br>\n",
    "    \n",
    "Since visible matter can be measured through photometry, a theoretical rotation curve can be computed applying the above equations. <br>\n",
    "However, as you will discover in the following exercises, this theoretical curve does not always agree with the measured velocities. "
   ]
  },
  {
   "cell_type": "markdown",
   "metadata": {
    "tags": []
   },
   "source": [
    "## Interactive widget with variable Dark Matter component - Galaxy: NGC 5533"
   ]
  },
  {
   "cell_type": "markdown",
   "metadata": {
    "tags": []
   },
   "source": [
    "In the following activity, you can experiment adding or removing Dark Matter and investigating how the total velocity of stars and gases change in a galaxy. "
   ]
  },
  {
   "cell_type": "markdown",
   "metadata": {
    "tags": []
   },
   "source": [
    "### Measured data points"
   ]
  },
  {
   "cell_type": "markdown",
   "metadata": {
    "tags": []
   },
   "source": [
    "In the code below, you will import the measured data points for the NGC 5533 galaxy. These are measured velocities of stars and gas in the galaxy as a function of radius. The data points were traced from Figure 4. in Noordermeer (2008). "
   ]
  },
  {
   "cell_type": "code",
   "execution_count": 2,
   "metadata": {},
   "outputs": [],
   "source": [
    "# Import measured velocity data\n",
    "data = dp.getXYdata_wXYerr('data/NGC5533/noord-120kpc-datapoints.txt')\n",
    "r_dat = np.asarray(data['xx'])              # radius\n",
    "v_dat = np.asarray(data['yy'])              # velocity\n",
    "v_err0 = np.asarray(data['ex'])             # error in radius\n",
    "v_err1 = np.asarray(data['ey'])             # error in velocity"
   ]
  },
  {
   "cell_type": "code",
   "execution_count": 3,
   "metadata": {},
   "outputs": [
    {
     "data": {
      "image/png": "[encoded data removed]",
      "text/plain": [
       "<Figure size 1080x432 with 1 Axes>"
      ]
     },
     "metadata": {
      "needs_background": "light"
     },
     "output_type": "display_data"
    }
   ],
   "source": [
    "# Plot \n",
    "plt.figure(figsize=(15,6))                                               # size of the galaxy\n",
    "plt.errorbar(r_dat,v_dat,yerr=v_err1, marker='o', markersize=8, \\\n",
    "             ecolor='gray',color='gray', linestyle='none', linewidth=2)  # plot datapoints with errorbars\n",
    "plt.xlabel('radius (kpc)',size=12)                                       # label x-axis\n",
    "plt.ylabel('velocity (km/s)',size=12)                                    # label y-axis\n",
    "plt.title(str('Observed Velocity of NGC 5533'), size=14)                 # title of the plot\n",
    "plt.xlim(0,np.max(r_dat)+0.2)                                            # range of the x-axis\n",
    "plt.ylim(0,np.max(v_dat)+100)                                            # range of the y-axis\n",
    "plt.show()                                                               # show the plot"
   ]
  },
  {
   "cell_type": "markdown",
   "metadata": {
    "tags": []
   },
   "source": [
    "### Galactic components"
   ]
  },
  {
   "cell_type": "markdown",
   "metadata": {},
   "source": [
    "The components of a galaxy are categorized based on how stars and gas are distributed. You will learn more about these components in the notebook `04_Plotting_Rotation_Curves.ipynb`. In the case of NGC 5533, we can define components consisting of a central supermassive black hole, a central bulge, a flat disk, atomic gas, and a dark matter halo. To calculate the total velocity or the rotation curve of a galaxy, these components are added in quadrature:\n",
    "\n",
    ">__Total velocity__: <br>\n",
    "    \\begin{equation}\n",
    "    v_{total}(r) = \\sqrt{\\lvert v_{gas}\\rvert v_{gas} + \\Upsilon _{bulge} \\lvert v_{bulge}\\rvert v_{bulge} + \\Upsilon _{disk} \\lvert v_{disk}\\rvert v_{disk} + \\lvert v_{halo}\\rvert v_{halo}}\n",
    "    \\end{equation}<br>\n",
    "\n",
    "Let's import the relevant functions or traced curves from the `NGC5533_functions.py` library:"
   ]
  },
  {
   "cell_type": "code",
   "execution_count": 4,
   "metadata": {},
   "outputs": [],
   "source": [
    "# Black hole component, traced curve\n",
    "def blackhole(r,Mbh):\n",
    "    return comp.blackhole(r,Mbh,'5533',load=False)\n",
    "\n",
    "# Bulge component, traced curve\n",
    "def bulge(r,bpref):\n",
    "    return bpref*comp.bulge(r,1,'5533',load=True)\n",
    "\n",
    "# Disk component, traced curve\n",
    "def disk(r,dpref):\n",
    "    return comp.disk(r,dpref,'5533')\n",
    "\n",
    "# Gas component, traced curve\n",
    "def gas(r,gpref):\n",
    "    return comp.gas(r,gpref,'5533')\n",
    "\n",
    "# Dark matter component, traced curve\n",
    "def halo(r,rc,rho0):\n",
    "    return comp.halo(r,rc,rho0)\n",
    "\n",
    "# Total velocity containing all components, added in quadrature\n",
    "def total_all(r,Mbh,bpref,dpref,gpref,rc,rho0):\n",
    "    total = np.sqrt(blackhole(r,Mbh)**2               # black hole\n",
    "                    + bulge(r,bpref)**2               # bulge\n",
    "                    + disk(r,dpref)**2                # disk\n",
    "                    + gas(r,gpref)**2                 # gas\n",
    "                    + halo(r,rc,rho0)**2)             # dark matter halo\n",
    "    return total\n",
    "\n",
    "# Total velocity of baryonic or luminous matter (no dark matter component), added in quadrature\n",
    "def total_bary(r,Mbh,bpref,dpref,gpref):\n",
    "    total = np.sqrt(blackhole(r,Mbh)**2               # black hole\n",
    "                    + bulge(r,bpref)**2               # bulge\n",
    "                    + disk(r,dpref)**2                # disk\n",
    "                    + gas(r,gpref)**2)                # gas\n",
    "    return total"
   ]
  },
  {
   "cell_type": "markdown",
   "metadata": {
    "tags": []
   },
   "source": [
    "### Parameters"
   ]
  },
  {
   "cell_type": "markdown",
   "metadata": {
    "tags": []
   },
   "source": [
    "The scaling parameters for each component can be found by fitting the total velocity to the measured data points. Lets import the calculated fitting parameters for our widget from the `NGC5533_fitting.py` library. "
   ]
  },
  {
   "cell_type": "code",
   "execution_count": 5,
   "metadata": {},
   "outputs": [],
   "source": [
    "# Scaling parameters\n",
    "\n",
    "_,fit_dict = comp.bestfit(comp.totalvelocity_halo,'5533')\n",
    "\n",
    "best_Mbh = fit_dict['Mbh']\n",
    "best_bpref = fit_dict['bpref']\n",
    "best_dpref = fit_dict['dpref']\n",
    "best_gpref = fit_dict['gpref']\n",
    "best_rc = fit_dict['rcut']\n",
    "best_rho0 = fit_dict['rho0']"
   ]
  },
  {
   "cell_type": "markdown",
   "metadata": {
    "tags": []
   },
   "source": [
    "### Total Dark Matter mass"
   ]
  },
  {
   "cell_type": "markdown",
   "metadata": {
    "tags": []
   },
   "source": [
    "Assuming the density of the Dark Matter halo is isothermal, meaning the temperature remains constant, we can calculate the total expected Dark Matter mass enclosed in a given radius. Starting with the equation for isothermal density as a function of radius, we can calculate the mass:<br>\n",
    "\n",
    ">__Isothermal Density__: <br>\n",
    "    \\begin{equation}\n",
    "    \\rho(r) = \\rho_{0} \\big[1 + \\frac{r}{r_c} \\big ]^{-1}\n",
    "    \\end{equation}<br>\n",
    "where:<br>\n",
    "        $G$ = gravitational constant<br>\n",
    "        $\\rho_0$ = central mass density (in solar mass/$\\rm kpc^3$)<br>\n",
    "        $r_c$ = core radius (in kpc)<br>\n",
    "__Mass as a function of radius__: <br>\n",
    "    \\begin{equation}\n",
    "    M(r) = 4 \\pi r^2 \\rho(r)\n",
    "    \\end{equation}\n",
    "    \n",
    "Let's define some functions for the above equations, and then plot the distribution of mass of NGC 5533:"
   ]
  },
  {
   "cell_type": "code",
   "execution_count": 6,
   "metadata": {},
   "outputs": [],
   "source": [
    "# Equation for isothermal density\n",
    "def density_iso(r,rc,rho0):\n",
    "    density = rho0 * (1 + (r/rc)**2)**(-1)\n",
    "    return density"
   ]
  },
  {
   "cell_type": "code",
   "execution_count": 7,
   "metadata": {},
   "outputs": [],
   "source": [
    "# Equation for mass as a function of radius\n",
    "def mass_function(r,rc,rho0):\n",
    "    mass = 4 * np.pi * r**2 * density_iso(r,rc,rho0) \n",
    "    return mass"
   ]
  },
  {
   "cell_type": "code",
   "execution_count": 8,
   "metadata": {},
   "outputs": [
    {
     "data": {
      "image/png": "[encoded data removed]",
      "text/plain": [
       "<Figure size 720x432 with 1 Axes>"
      ]
     },
     "metadata": {
      "needs_background": "light"
     },
     "output_type": "display_data"
    }
   ],
   "source": [
    "# Plot to visualize the mass distribution in the NGC 5533 galaxy for radii between 0 and 20 kpc\n",
    "r = np.linspace(np.min(r_dat),np.max(r_dat),1000)\n",
    "plt.figure(figsize=(10,6))                                                \n",
    "plt.plot(r,mass_function(r,best_rc,best_rho0)) \n",
    "plt.xlabel('radius (kpc)',size=12)                                       \n",
    "plt.ylabel('mass ($M_{sun}$)',size=12)                                   \n",
    "plt.title(str('Mass of Dark Matter as a function of radius - NGC 5533'), size=14) \n",
    "plt.xlim(0,20)\n",
    "plt.ylim(0,1e10)                                        \n",
    "plt.show() "
   ]
  },
  {
   "cell_type": "markdown",
   "metadata": {},
   "source": [
    "Integrate to calculate the total mass enclosed.\n",
    "\n",
    ">__Total mass enclosed__: <br>\n",
    "    \\begin{equation}\n",
    "    M_{total} = \\int_{0}^{r} M(r) dr\n",
    "    \\end{equation}"
   ]
  },
  {
   "cell_type": "code",
   "execution_count": 9,
   "metadata": {},
   "outputs": [
    {
     "name": "stdout",
     "output_type": "stream",
     "text": [
      "The total mass of Dark Matter in the galaxy NGC 5533 is about 8.911e+11 solar masses.\n"
     ]
    }
   ],
   "source": [
    "# Integrate to calculate total mass enclosed \n",
    "TotalMass = lambda rc,rho0: si.quad(mass_function, 0, np.max(r_dat), args=(rc,rho0))[0]\n",
    "\n",
    "# Print total mass of Dark Matter in NGC 5533\n",
    "print(\"The total mass of Dark Matter in the galaxy NGC 5533 is about {:.3e} solar masses.\".format(TotalMass(best_rc,best_rho0)))"
   ]
  },
  {
   "cell_type": "markdown",
   "metadata": {
    "tags": []
   },
   "source": [
    "### Define plotting function and sliders for interactive widget"
   ]
  },
  {
   "cell_type": "markdown",
   "metadata": {
    "tags": []
   },
   "source": [
    "The interactive widget has two adjustable sliders where you can change the radius and the mass density of the halo. All other parameters are fixed to focus on the dark matter componet only. The next two cells of code define functions related to the widget, but do not generate the widget itself."
   ]
  },
  {
   "cell_type": "code",
   "execution_count": 10,
   "metadata": {},
   "outputs": [],
   "source": [
    "# Plotting function\n",
    "def f(rc,rho0):\n",
    "        \n",
    "    # Define radius\n",
    "    r = np.linspace(np.min(r_dat),np.max(r_dat),1000)\n",
    "    \n",
    "    # Plot\n",
    "    plt.figure(figsize=(11,7))\n",
    "    plt.xlim(0,np.max(r_dat)+0.2)\n",
    "    plt.ylim(0,np.max(v_dat)+100)\n",
    "    \n",
    "    plt.errorbar(r_dat,v_dat,yerr=v_err1,fmt='bo',label='Data')     # Measured data points\n",
    "    plt.plot(r,blackhole(r,best_Mbh),label=(\"Central Supermassive Black Hole\"),color='black') # Black hole component\n",
    "    plt.plot(r,bulge(r,best_bpref),label=(\"Bulge\"),color='orange')       # Bulge component\n",
    "    plt.plot(r,disk(r,best_dpref),label=(\"Disk\"),color='purple')         # Disk component \n",
    "    plt.plot(r,gas(r,best_gpref),label=(\"Gas\"),color='blue')             # Gas component\n",
    "    plt.plot(r,halo(r,rc,rho0),label=(\"Halo\"),color='green')        # Dark matter halo component\n",
    "    plt.plot(r,total_all(r,best_Mbh,best_bpref,best_dpref,best_gpref,rc,rho0),label=(\"Total Curve\"),color='red')    # Total velocity with dark matter\n",
    "    plt.plot(r,total_bary(r,best_Mbh,best_bpref,best_dpref,best_gpref),label=(\"Luminous Matter\"),linestyle='--')    # Total velocity without dark matter\n",
    "    plt.fill_between(r,galdata.NGC5533['n_band_btm'](r),galdata.NGC5533['n_band_top'](r),color='#dddddd',label=\"Confidence Band\")    # Confidence band\n",
    "    plt.title(\"Interactive Rotation Curve - Galaxy: NGC 5533\",fontsize=20)\n",
    "    plt.xlabel(\"Radius (kpc)\")\n",
    "    plt.ylabel(\"Velocity (km/s)\")\n",
    "    plt.legend(bbox_to_anchor=(1,1), loc=\"upper left\")              # Put legend outside of the plot\n",
    "    \n",
    "    # Chi squared and reduced chi squared\n",
    "    # Residuals\n",
    "    residuals = v_dat - total_all(r_dat,best_Mbh,best_bpref,best_dpref,best_gpref,rc,rho0)\n",
    "    # Error\n",
    "    error = np.sqrt(v_err1**2 + galdata.NGC5533['n_v_bandwidth']**2)\n",
    "    # Chi squared\n",
    "    chisquared = np.sum(residuals**2/error**2)\n",
    "    # Degrees of freedom\n",
    "    dof = len(r_dat) - 6                 # number of degrees of freedom = number of observed data - number of fitting parameters\n",
    "    # Reduced chi squared\n",
    "    reducedchisquared = chisquared / dof \n",
    "    \n",
    "    # Annotation\n",
    "    props = dict(boxstyle='round', facecolor='white', alpha=0.5)\n",
    "    plt.text(82,373,r\"$\\chi^2$: {:.5f}\".format(chisquared)+'\\n'+r\"Reduced $\\chi^2$: {:.5f}\".format(reducedchisquared),bbox=props,size=10)\n",
    "    props = dict(boxstyle='round', facecolor='white', alpha=0.5)\n",
    "    plt.text(69.5,350,r\"Total Dark Matter Mass: {:.2e} $M_\\odot$\".format(TotalMass(rc,rho0)),bbox=props,size=10)\n",
    "    plt.annotate('Data source: E. Noordermeer. The rotation curves of flattened Sérsic bulges. MNRAS,385(3):1359–1364, Apr 2008',\n",
    "            xy=(0, 0), xytext=(0,5),\n",
    "            xycoords=('axes fraction', 'figure fraction'),\n",
    "            textcoords='offset points',\n",
    "            size=10, ha='left', va='bottom')\n",
    "    \n",
    "    plt.show()"
   ]
  },
  {
   "cell_type": "code",
   "execution_count": 11,
   "metadata": {},
   "outputs": [],
   "source": [
    "# Appearance of widget\n",
    "style = {'description_width': 'initial'}\n",
    "layout = {'width':'600px'}\n",
    "\n",
    "# Sliders for the widget\n",
    "rc = FloatSlider(min=0.1, max=5, step=0.1, \n",
    "                    value=best_rc, \n",
    "                    description='Halo Core Radius [kpc]', \n",
    "                    readout_format='.2f', \n",
    "                    orientation='horizontal', \n",
    "                    style=style, layout=layout)\n",
    "rho0 = FloatSlider(min=0, max=1e9, step=1e7, \n",
    "                    value=best_rho0, \n",
    "                    description=r'Halo Central Mass Density [$M_{\\odot} / kpc^3$]', \n",
    "                    readout_format='.2e', \n",
    "                    orientation='horizontal', \n",
    "                    style=style, layout=layout)\n",
    "\n",
    "# Interactive widget\n",
    "def interactive_plot(f):\n",
    "    interact = interactive(f,\n",
    "                           rc = rc,\n",
    "                           rho0 = rho0,\n",
    "                           continuous_update=False)\n",
    "    return interact\n",
    "\n",
    "# Button to revert back to Best Fit\n",
    "button = Button(\n",
    "    description=\"Best Fit\",\n",
    "    button_style='warning',\n",
    "    icon='check')\n",
    "out = Output()\n",
    "\n",
    "def on_button_clicked(_):\n",
    "    rc.value = best_rc\n",
    "    rho0.value = best_rho0\n",
    "button.on_click(on_button_clicked)"
   ]
  },
  {
   "cell_type": "markdown",
   "metadata": {},
   "source": [
    "### What do rotation curves look like with and without Dark Matter?"
   ]
  },
  {
   "cell_type": "markdown",
   "metadata": {},
   "source": [
    "In this activity, you can visualize how important Dark Matter is to accurately describe observed data (marked in blue points with error bars below). <br>\n",
    "How much Dark Matter is in a given galaxy to account for our observations?\n",
    "\n",
    "<div class=\"alert-info\">Activity 1)</div>\n",
    "\n",
    ">Use the sliders below to modify the halo parameters and investigate how incorporating a Dark Matter component allows us to more accurately match our observations. In order to determine if a model is a good fit to observed data, we use a statistic called reduced $\\chi^2$. A reduced $\\chi^2$ close to 1 is generally considered a good fit. A reduced $\\chi^2$ far higher than 1 is not a good fit. And a reduced $\\chi^2$ which is a lot lower than 1 suggests a poor theoretical model (that is, the model probably doesn't accurately describe the real universe or it is simply connecting the measured data points). As you adjust the sliders, what happens to the total rotation curve (in red) as reduced $\\chi^2$ approaches 1?"
   ]
  },
  {
   "cell_type": "code",
   "execution_count": 12,
   "metadata": {},
   "outputs": [
    {
     "data": {
      "application/vnd.jupyter.widget-view+json": {
       "model_id": "516a24e27f404d80a99a474504fb2242",
       "version_major": 2,
       "version_minor": 0
      },
      "text/plain": [
       "VBox(children=(Button(button_style='warning', description='Best Fit', icon='check', style=ButtonStyle()), Outp…"
      ]
     },
     "metadata": {},
     "output_type": "display_data"
    }
   ],
   "source": [
    "#NBVAL_IGNORE_OUTPUT\n",
    "#Because the figure doesn't save to the repository correctly.\n",
    "# Widget\n",
    "VBox([button,out,interactive_plot(f)])"
   ]
  },
  {
   "cell_type": "markdown",
   "metadata": {},
   "source": [
    "### Slider key"
   ]
  },
  {
   "cell_type": "markdown",
   "metadata": {},
   "source": [
    ">Central mass density ($\\rho_0$): The central mass density is the density at the center of the galaxy, changing this value changes the magnitude of the Dark Matter curve.<br>\n",
    ">Core radius ($r_c$): The core radius (also called \"cutoff radius\" or \"scale radius\") indicates where the density falls off by a factor of e (~2.7). Adjusting this factor changes where the \"bump\" of the curve is located.\n",
    "\n",
    ">$kpc$ = kiloparsec, equal to 3,260 light years, or $1.917 \\times 10^{16}$ miles <br>\n",
    ">$km/s$ = kilometers per second (velocity unit)<br>\n",
    ">$M_{\\odot}$ = solar masses (X number of masses equal to our sun), approximately equal to $1.989 \\times 10^{30}$ kilograms <br>\n",
    ">$M_{\\odot} / kpc^3$ = solar masses per kiloparsec cubed (density unit = mass/volume) <br>"
   ]
  },
  {
   "cell_type": "markdown",
   "metadata": {
    "tags": []
   },
   "source": [
    "### References: "
   ]
  },
  {
   "cell_type": "markdown",
   "metadata": {},
   "source": [
    ">Carroll, B. W., &amp; Ostlie, D. A. (2018). **An Introduction to Modern Astrophysics**. Cambridge University Press. <br><br>\n",
    "Jimenez, Raul, Licia Verde, and S. Peng Oh. **Dark halo properties from rotation curves.** _Monthly Notices of the Royal Astronomical Society_ 339, no. 1 (2003): 243-259. https://doi.org/10.1046/j.1365-8711.2003.06165.x. <br><br>\n",
    ">Noordermeer, E., &amp; Van Der Hulst, J. M. (2007). **The stellar mass distribution in early-type disc galaxies: Surface Photometry and bulge–disc decompositions.** Monthly Notices of the Royal Astronomical Society, 376(4), 1480–1512. https://doi.org/10.1111/j.1365-2966.2007.11532.x <br><br>\n",
    ">Noordermeer, E. (2008), **The rotation curves of flattened Sérsic bulges**. Monthly Notices of the Royal Astronomical Society, 385: 1359-1364. https://doi.org/10.1111/j.1365-2966.2008.12837.x <br><br>\n",
    ">Taylor, John Robert. __An Introduction to Error Analysis: The Study of Uncertainties in Physical Measurements.__ 2nd ed. United States of America: University Science Books, 1997. "
   ]
  }
 ],
 "metadata": {
  "kernelspec": {
   "display_name": "galactic-spin",
   "language": "python",
   "name": "galactic-spin"
  },
  "language_info": {
   "codemirror_mode": {
    "name": "ipython",
    "version": 3
   },
   "file_extension": ".py",
   "mimetype": "text/x-python",
   "name": "python",
   "nbconvert_exporter": "python",
   "pygments_lexer": "ipython3",
   "version": "3.7.9"
  }
 },
 "nbformat": 4,
 "nbformat_minor": 4
}
