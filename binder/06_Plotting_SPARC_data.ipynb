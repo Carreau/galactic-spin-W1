{
 "cells": [
  {
   "cell_type": "code",
   "execution_count": 1,
   "metadata": {},
   "outputs": [],
   "source": [
    "import warnings\n",
    "warnings.simplefilter(action='ignore', category=FutureWarning)      # Ignore warnings\n",
    "warnings.simplefilter(action='ignore', category=UserWarning)        # Ignore warnings\n",
    "import sys\n",
    "import numpy as np\n",
    "import matplotlib.pyplot as plt \n",
    "from scipy.interpolate import InterpolatedUnivariateSpline\n",
    "from IPython.display import Javascript, display, clear_output\n",
    "import sys\n",
    "sys.path.append('python/')                # Define path for libraries\n",
    "import downloadSPARCdata as dsd           # Import library to download data files"
   ]
  },
  {
   "cell_type": "markdown",
   "metadata": {},
   "source": [
    "## SPARC Activity"
   ]
  },
  {
   "cell_type": "markdown",
   "metadata": {},
   "source": [
    "The following notebook will walk you through rotation curve plotting using an online database. As the main activity in this module, select from a list of 175 galaxies to plot their rotation curves and calculate the amount of dark matter for all of them! <br>\n",
    "\n",
    "You will download rotation curve data of galaxies from the Spitzer Photometry & Accurate Rotation Curves (SPARC) database and plot them with and without a dark matter component to understand how the \"missing mass\" affects the rotation of stars. <br>\n",
    "You may either download and unzip the data files yourself or have Python do the work. "
   ]
  },
  {
   "cell_type": "markdown",
   "metadata": {},
   "source": [
    "#### Option 1. Download and unzip the data files yourself:\n",
    "1. Go to http://astroweb.cwru.edu/SPARC/ and under \"BASIC SPARK DATA\", download the Rotmod_LTG.zip file for \"Newtonian Mass Models\".\n",
    "2. Open (extract/unzip) the zip file to preferably the same location as where your Python notebook is located. \n",
    "3. Choose a galaxy (any file) of your choice. Do not rename the file. Put the name of the chosen galaxy in the variable in the cell below and run it.\n",
    "4. Make a note of the directory (file location) of the SPARC file of your galaxy **with respect to this location of this python notebook**. For example, if your file is located in the same location as this code, leave the following cell as is. But if it is, say, in the next folder \"up\" from this one, use the extension '../'. So an example of if the SPARC file is located two folders then one folder \"down\" (into a different folder named, say, 'otherfolder'), you would write:\n",
    "`SPARC_file_directory='../../otherfolder/'` in the cell below and run it."
   ]
  },
  {
   "cell_type": "code",
   "execution_count": 2,
   "metadata": {},
   "outputs": [],
   "source": [
    "SPARC_file_directory='data/sparc/'                 #note that '' means the string variable is blank"
   ]
  },
  {
   "cell_type": "markdown",
   "metadata": {},
   "source": [
    "#### Option 2. Let Python download and unzip the data files\n",
    "1. By clicking the YES button, you can download and unzip SPARC data files to your computer. "
   ]
  },
  {
   "cell_type": "code",
   "execution_count": 3,
   "metadata": {},
   "outputs": [
    {
     "name": "stdout",
     "output_type": "stream",
     "text": [
      "Would you like to download and unzip SPARC data files to your computer?\n"
     ]
    },
    {
     "data": {
      "application/vnd.jupyter.widget-view+json": {
       "model_id": "394f57dcdb6b4f54a707d7b4f8e6278e",
       "version_major": 2,
       "version_minor": 0
      },
      "text/plain": [
       "VBox(children=(HBox(children=(Button(button_style='success', description='Yes', icon='check', style=ButtonStyl…"
      ]
     },
     "metadata": {},
     "output_type": "display_data"
    }
   ],
   "source": [
    "print(\"Would you like to download and unzip SPARC data files to your computer?\")\n",
    "dsd.displaybuttons"
   ]
  },
  {
   "cell_type": "markdown",
   "metadata": {},
   "source": [
    "## Choose a galaxy"
   ]
  },
  {
   "cell_type": "markdown",
   "metadata": {},
   "source": [
    "Select any galaxy from the dropdown menu."
   ]
  },
  {
   "cell_type": "code",
   "execution_count": 4,
   "metadata": {},
   "outputs": [
    {
     "data": {
      "application/vnd.jupyter.widget-view+json": {
       "model_id": "106cb5747ef4481fb68134a6861522a6",
       "version_major": 2,
       "version_minor": 0
      },
      "text/plain": [
       "Box(children=(Box(children=(Label(value='Galaxy: '), Dropdown(index=79, options=('CamB', 'D512-2', 'D564-8', '…"
      ]
     },
     "metadata": {},
     "output_type": "display_data"
    }
   ],
   "source": [
    "galaxylist = ['NGC5005']                 # default list of galaxies  \n",
    "def on_change(change):                   # add selected galaxynames to the list\n",
    "    if change['type'] == 'change' and change['name'] == 'value':\n",
    "        galaxylist.append(change['new'])\n",
    "        display(Javascript('IPython.notebook.execute_cell_range(IPython.notebook.get_selected_index()+1, IPython.notebook.ncells())'))\n",
    "dsd.dropdownmenu.observe(on_change)\n",
    "display(dsd.galaxyoptions)"
   ]
  },
  {
   "cell_type": "markdown",
   "metadata": {},
   "source": [
    "Once you selected a galaxy, click on the cell below &#8595; &#8595; &#8595; , then select `Run` &#8594; `Run Selected Cell and All Below` to reveal the rotation curve and the image of the chosen galaxy in the following cells. "
   ]
  },
  {
   "cell_type": "code",
   "execution_count": 5,
   "metadata": {},
   "outputs": [],
   "source": [
    "# Writing the chosen galaxy name in a text file would allow us to use the selection in libraries outside of this notebook\n",
    "chosengalaxy = galaxylist[-1]              # define the last element of the list as the selected galaxy\n",
    "textfile = open(\"python/chosengalaxy.txt\", \"w\")\n",
    "textfile.write(chosengalaxy)\n",
    "textfile.close()\n",
    "textfile = open(\"python/chosengalaxy.txt\", \"r\")\n",
    "textfile.close()"
   ]
  },
  {
   "cell_type": "markdown",
   "metadata": {},
   "source": [
    "The downloaded files are named as \"[galaxy name]\\_rotmod.dat\" so you can define the file path by choosing the relevant file directory + your filename."
   ]
  },
  {
   "cell_type": "code",
   "execution_count": 6,
   "metadata": {},
   "outputs": [],
   "source": [
    "# Define file path for .dat files\n",
    "SPARC_file = SPARC_file_directory + chosengalaxy + '_rotmod.dat'\n",
    "\n",
    "# Load the galaxy data\n",
    "galaxydata = np.loadtxt(SPARC_file)"
   ]
  },
  {
   "cell_type": "markdown",
   "metadata": {},
   "source": [
    "Print the header to see what variable each column corresponds to."
   ]
  },
  {
   "cell_type": "code",
   "execution_count": 7,
   "metadata": {},
   "outputs": [
    {
     "name": "stdout",
     "output_type": "stream",
     "text": [
      "# Distance = 16.9 Mpc\n",
      "\n",
      "# Rad\tVobs\terrV\tVgas\tVdisk\tVbul\tSBdisk\tSBbul\t\t\n",
      "\n",
      "# kpc\tkm/s\tkm/s\tkm/s\tkm/s\tkm/s\tL/pc^2\tL/pc^2\n",
      "\n"
     ]
    }
   ],
   "source": [
    "# Print header \n",
    "for lines in open(SPARC_file, 'r'):\n",
    "    if lines.startswith('#'):\n",
    "        print(lines)"
   ]
  },
  {
   "cell_type": "markdown",
   "metadata": {},
   "source": [
    "__Header Key__:<br>\n",
    ">_Rad_: radius or distance from the center of galaxy (in kiloparsec) <br>\n",
    ">_Vobs_: observed velocity/measured datapoints (in km/s) <br>\n",
    ">_errV_: uncertainty in the observed velocity (in km/s) <br>\n",
    ">_Vgas_: velocity of the gas component (in km/s) <br>\n",
    ">_Vdisk_: velocity of the disk component (in km/s) <br>\n",
    ">_Vbul_: velocity of the bulge component (in km/s) <br>\n",
    ">_SBdisk_: surface brightness of the disk component (in Luminosity/$ \\rm parsec^2$) <br>\n",
    ">_SBbul_: surface brightness of the bulge component (in Luminosity/$ \\rm parsec^2$)"
   ]
  },
  {
   "cell_type": "markdown",
   "metadata": {},
   "source": [
    "Split columns into arrays and name them according to the header displayed in the cell above."
   ]
  },
  {
   "cell_type": "code",
   "execution_count": 8,
   "metadata": {},
   "outputs": [],
   "source": [
    "# Split columns into arrays\n",
    "Rad,Vobs,errV,Vgas,Vdisk,Vbul,SBdisk,SBbul = galaxydata.T     "
   ]
  },
  {
   "cell_type": "markdown",
   "metadata": {},
   "source": [
    "The distance to the galaxy is given in the data file in Megaparsecs (1 Mpc equals about 3.26 million light years). You can define this value in your Python notebook for your reference. "
   ]
  },
  {
   "cell_type": "code",
   "execution_count": 9,
   "metadata": {},
   "outputs": [
    {
     "name": "stdout",
     "output_type": "stream",
     "text": [
      "The distance to NGC5005 galaxy is 16.9 Mpc.\n"
     ]
    }
   ],
   "source": [
    "# Define distance in Mpc\n",
    "firstline = open(SPARC_file).readline()         # Open the data file\n",
    "firstline = firstline.split()                   # Split the first line into separate strings\n",
    "distance = float(firstline[3])                  # Take the 4th value of the first line (counts: 0,1,2,3...)\n",
    "print(\"The distance to {} galaxy is {} Mpc.\".format(chosengalaxy,distance))"
   ]
  },
  {
   "cell_type": "markdown",
   "metadata": {},
   "source": [
    "Due to the low number of datapoints, the rotation curve might look choppy. In order to smooth it, you can define a polynomial using Scipy's Interpolated Univariate Spline function, then choose your range and number of datapoints (sampling radii) to define the new, more smooth curve of each component. "
   ]
  },
  {
   "cell_type": "code",
   "execution_count": 10,
   "metadata": {},
   "outputs": [],
   "source": [
    "# Spline function\n",
    "def interpd(x,y):\n",
    "    return InterpolatedUnivariateSpline(x,y,k=3)      # Degree of the smoothing spline: 3\n",
    "\n",
    "# Bulge\n",
    "def bulge(r,bpref):\n",
    "    polynomial = interpd(Rad,bpref*Vbul)              # bpref is the bulge prefactor added to the bulge\n",
    "    return polynomial(r)\n",
    "\n",
    "# Disk\n",
    "def disk(r,dpref):\n",
    "    polynomial = interpd(Rad,dpref*Vdisk)             # dpref is the disk prefactor added to the disk\n",
    "    return polynomial(r)\n",
    "\n",
    "# Gas \n",
    "def gas(r):\n",
    "    polynomial = interpd(Rad,Vgas)                    # Note that the gas doesn't have a prefactor\n",
    "    return polynomial(r)"
   ]
  },
  {
   "cell_type": "markdown",
   "metadata": {},
   "source": [
    "## Observed velocity of the chosen galaxy"
   ]
  },
  {
   "cell_type": "markdown",
   "metadata": {},
   "source": [
    "Plot the observed velocity (measured datapoints) and the error bars on each measurement of the chosen galaxy as a function of radius."
   ]
  },
  {
   "cell_type": "code",
   "execution_count": 11,
   "metadata": {},
   "outputs": [
    {
     "data": {
      "image/png": "[encoded data removed]",
      "text/plain": [
       "<Figure size 576x432 with 1 Axes>"
      ]
     },
     "metadata": {
      "needs_background": "light"
     },
     "output_type": "display_data"
    }
   ],
   "source": [
    "plt.figure(figsize=(8,6))                                                # size of the galaxy\n",
    "plt.errorbar(Rad,Vobs,yerr=errV, marker='o', markersize=8, \\\n",
    "             ecolor='gray',color='gray', linestyle='none', linewidth=2)  # plot datapoints with errorbars\n",
    "plt.xlabel('radius (kpc)',size=12)                                       # label x-axis\n",
    "plt.ylabel('velocity (km/s)',size=12)                                    # label y-axis\n",
    "plt.title(str('Observed Velocity of ' + chosengalaxy), size=14)          # title of the plot\n",
    "plt.xlim(0,np.max(Rad)+0.2)                                              # range of the x-axis\n",
    "plt.ylim(0,np.max(Vobs)+100)                                             # range of the y-axis\n",
    "plt.show()                                                               # show the plot"
   ]
  },
  {
   "cell_type": "markdown",
   "metadata": {},
   "source": [
    "A prefactor or mass-to-light ratio ($\\Upsilon$) is added to the disk and the bulge which will be useful when fitting the curve of each component. These prefactors help scaling the curve up and down. You can either change these values manually and see the magnitude of the relevant curve change in the cells below or import the fitting parameters from a python library. <br>\n",
    "\n",
    ">pref_bulge: bulge prefactor<br>\n",
    ">pref_disk: disk prefactor\n",
    "\n",
    "Note that the gas prefactor is missing. The mass of the gas was calculated assuming a factor of 1.33 to account for the contribution of helium. "
   ]
  },
  {
   "cell_type": "code",
   "execution_count": 12,
   "metadata": {},
   "outputs": [
    {
     "ename": "ModuleNotFoundError",
     "evalue": "No module named 'astroquery'",
     "output_type": "error",
     "traceback": [
      "\u001b[1;31m---------------------------------------------------------------------------\u001b[0m",
      "\u001b[1;31mModuleNotFoundError\u001b[0m                       Traceback (most recent call last)",
      "\u001b[1;32m<ipython-input-12-e0c5537b64ab>\u001b[0m in \u001b[0;36m<module>\u001b[1;34m\u001b[0m\n\u001b[1;32m----> 1\u001b[1;33m \u001b[1;32mimport\u001b[0m \u001b[0mwidget_SPARC\u001b[0m \u001b[1;32mas\u001b[0m \u001b[0mfit\u001b[0m        \u001b[1;31m# Import widget library for using the fitting parameters\u001b[0m\u001b[1;33m\u001b[0m\u001b[1;33m\u001b[0m\u001b[0m\n\u001b[0m\u001b[0;32m      2\u001b[0m \u001b[1;32mimport\u001b[0m \u001b[0mimportlib\u001b[0m\u001b[1;33m\u001b[0m\u001b[1;33m\u001b[0m\u001b[0m\n\u001b[0;32m      3\u001b[0m \u001b[0mimportlib\u001b[0m\u001b[1;33m.\u001b[0m\u001b[0mreload\u001b[0m\u001b[1;33m(\u001b[0m\u001b[0mfit\u001b[0m\u001b[1;33m)\u001b[0m             \u001b[1;31m# Reload widget library so the changes take effect\u001b[0m\u001b[1;33m\u001b[0m\u001b[1;33m\u001b[0m\u001b[0m\n\u001b[0;32m      4\u001b[0m \u001b[0mclear_output\u001b[0m\u001b[1;33m(\u001b[0m\u001b[1;33m)\u001b[0m\u001b[1;33m\u001b[0m\u001b[1;33m\u001b[0m\u001b[0m\n",
      "\u001b[1;32m~\\Documents\\GitHub\\galactic-spin-W1\\binder\\python\\widget_SPARC.py\u001b[0m in \u001b[0;36m<module>\u001b[1;34m\u001b[0m\n\u001b[0;32m    290\u001b[0m \u001b[1;31m################################\u001b[0m\u001b[1;33m\u001b[0m\u001b[1;33m\u001b[0m\u001b[1;33m\u001b[0m\u001b[0m\n\u001b[0;32m    291\u001b[0m \u001b[1;33m\u001b[0m\u001b[0m\n\u001b[1;32m--> 292\u001b[1;33m \u001b[1;32mfrom\u001b[0m \u001b[0mastroquery\u001b[0m\u001b[1;33m.\u001b[0m\u001b[0mskyview\u001b[0m \u001b[1;32mimport\u001b[0m \u001b[0mSkyView\u001b[0m\u001b[1;33m\u001b[0m\u001b[1;33m\u001b[0m\u001b[0m\n\u001b[0m\u001b[0;32m    293\u001b[0m \u001b[1;32mfrom\u001b[0m \u001b[0mastropy\u001b[0m\u001b[1;33m.\u001b[0m\u001b[0mwcs\u001b[0m \u001b[1;32mimport\u001b[0m \u001b[0mWCS\u001b[0m\u001b[1;33m\u001b[0m\u001b[1;33m\u001b[0m\u001b[0m\n\u001b[0;32m    294\u001b[0m \u001b[1;33m\u001b[0m\u001b[0m\n",
      "\u001b[1;31mModuleNotFoundError\u001b[0m: No module named 'astroquery'"
     ]
    }
   ],
   "source": [
    "import widget_SPARC as fit        # Import widget library for using the fitting parameters\n",
    "import importlib\n",
    "importlib.reload(fit)             # Reload widget library so the changes take effect\n",
    "clear_output()"
   ]
  },
  {
   "cell_type": "code",
   "execution_count": null,
   "metadata": {},
   "outputs": [],
   "source": [
    "# Prefactors\n",
    "pref_bulge = fit.best_bpref\n",
    "pref_disk = fit.best_dpref\n",
    "\n",
    "# Radius for plotting\n",
    "radius = np.linspace(np.min(Rad),np.max(Rad),1000) # starting at the same radius where the given datapoints start, \n",
    "                                                   # ending at the same radius where the given datapoints end, \n",
    "                                                   # with 1000 datapoints"
   ]
  },
  {
   "cell_type": "markdown",
   "metadata": {},
   "source": [
    "## Rotational velocity of each luminous component"
   ]
  },
  {
   "cell_type": "markdown",
   "metadata": {},
   "source": [
    "Plot the rotation velocity of each component."
   ]
  },
  {
   "cell_type": "code",
   "execution_count": null,
   "metadata": {},
   "outputs": [],
   "source": [
    "plt.figure(figsize=(8,6))\n",
    "plt.plot(radius, gas(radius),              label=\"Gas velocity\")\n",
    "plt.plot(radius, bulge(radius,pref_bulge), label=\"Bulge velocity\")\n",
    "plt.plot(radius, disk(radius,pref_disk),   label=\"Disk velocity\")\n",
    "plt.xlabel('radius (kpc)',  size=12)\n",
    "plt.ylabel('velocity (km/s)', size=12)\n",
    "plt.title(str('Velocity of Luminous Components of ' + chosengalaxy), size=14)\n",
    "plt.xlim(0,np.max(Rad + 0.1))\n",
    "plt.ylim(0,np.max(Vobs + 80))\n",
    "plt.legend(bbox_to_anchor=(1,1), loc=\"upper left\")\n",
    "plt.show()"
   ]
  },
  {
   "cell_type": "markdown",
   "metadata": {},
   "source": [
    "Each component was calculated using the following model: <br>\n",
    ">Bulge: residual luminosity profile <br>\n",
    ">Disk: observed [3.6] surface brightness profile<br>\n",
    ">Gas: H1 surface density profiles or mass models<br>\n",
    "\n",
    "However, these calculations are beyond the scope of this workshop. "
   ]
  },
  {
   "cell_type": "markdown",
   "metadata": {},
   "source": [
    "## Total velocity curve of lluminous matter"
   ]
  },
  {
   "cell_type": "markdown",
   "metadata": {},
   "source": [
    "Now that we have all of the luminous components or light matter: bulge, disk and gas, we can add them in quadrature with equivalent prefactors to get the total velocity of the luminous matter. "
   ]
  },
  {
   "cell_type": "markdown",
   "metadata": {},
   "source": [
    ">__Total velocity of luminous matter__: <br>\n",
    "    \\begin{equation}\n",
    "    v_{total,light}(r) = \\sqrt{\\lvert v_{gas}\\rvert v_{gas} + \\Upsilon _{bulge} \\lvert v_{bulge}\\rvert v_{bulge} + \\Upsilon _{disk} \\lvert v_{disk}\\rvert v_{disk}}\n",
    "    \\end{equation}<br>"
   ]
  },
  {
   "cell_type": "code",
   "execution_count": null,
   "metadata": {},
   "outputs": [],
   "source": [
    "def total_velocity_light(r,pref_bulge,pref_disk):             \n",
    "    return np.sqrt(gas(r)**2 + bulge(r,pref_bulge)**2 + disk(r,pref_disk)**2)"
   ]
  },
  {
   "cell_type": "markdown",
   "metadata": {},
   "source": [
    "Plot the luminous components and the total velocity."
   ]
  },
  {
   "cell_type": "code",
   "execution_count": null,
   "metadata": {},
   "outputs": [],
   "source": [
    "plt.figure(figsize=(9,6))\n",
    "\n",
    "plt.plot(radius, gas(radius),               label=\"Gas velocity\",   color='#1f77b4')\n",
    "plt.plot(radius, bulge(radius,pref_bulge),  label=\"Bulge velocity\", color='#ff7f0e')\n",
    "plt.plot(radius, disk(radius,pref_disk),    label=\"Disk velocity\",  color='#2ca02c')\n",
    "\n",
    "plt.plot(radius,total_velocity_light(radius,pref_bulge,pref_disk), label=\"Total velocity of luminous matter\", color='#d62728', linewidth=3)\n",
    "plt.errorbar(Rad,Vobs,yerr=errV, marker='o', markersize=8, \\\n",
    "             ecolor='gray',color='gray', linestyle='none', linewidth=2, label = \"Observed velocity\")\n",
    "plt.xlabel('radius (kpc)',size=12)\n",
    "plt.ylabel('velocity (km/s)',size=12)\n",
    "plt.title(str('Rotation Curve of ' + chosengalaxy + ' - Luminous Matter'), size=14)\n",
    "plt.xlim(0,np.max(Rad + 0.2))\n",
    "plt.ylim(0,np.max(Vobs) + 100)\n",
    "plt.legend(bbox_to_anchor=(1,1), loc=\"upper left\")\n",
    "plt.show()"
   ]
  },
  {
   "cell_type": "markdown",
   "metadata": {},
   "source": [
    "Notice that the total velocity does not align with the measured velocity. Not even if you scale the other components up and down with the prefactor. Let's add the \"missing matter\"."
   ]
  },
  {
   "cell_type": "markdown",
   "metadata": {},
   "source": [
    "## Add dark matter"
   ]
  },
  {
   "cell_type": "markdown",
   "metadata": {},
   "source": [
    "Dark matter can be characterized by two parameters: the central mass density and the core radius. <br>\n",
    "***Central mass density***: The central mass density is the density at the center of the galaxy, changing this value changes the magnitude of the dark matter curve. <br>\n",
    "***Core radius***: The core radius (also called \"cutoff radius\" or \"scale radius\") indicates where the density falls off by a factor of e (~2.7). Adjusting this factor changes where the \"bump\" of the curve is located.\n",
    "\n",
    ">__Velocity__: <br>\n",
    "    \\begin{equation}\n",
    "    v_{DM}(r) = \\sqrt{4 \\pi G \\rho_{0} r_c^2 \\big( 1- \\frac{r_c}{r} \\arctan{\\frac{r}{r_c}}\\big)}\n",
    "    \\end{equation}<br>\n",
    "    \n",
    "   >where:<br>\n",
    "        $G$ = gravitational constant<br>\n",
    "        $\\rho_0$ = central mass density (in solar mass/$\\rm kpc^3$)<br>\n",
    "        $r_c$ = core radius (in kpc)<br>"
   ]
  },
  {
   "cell_type": "markdown",
   "metadata": {},
   "source": [
    "Set parameters or import the fitting parameters from our Python library. The fitting parameters were calculated using the Python library: lmfit. "
   ]
  },
  {
   "cell_type": "code",
   "execution_count": null,
   "metadata": {},
   "outputs": [],
   "source": [
    "# Dark matter halo parameters\n",
    "rho0 = fit.best_rho0     # Central mass density (in solar mass/kpc^3)\n",
    "rc = fit.best_rc         # Core radius (in kpc)\n",
    "\n",
    "# Constant parameters\n",
    "G = 4.300e-6             # Gravitational constant (kpc/solar mass*(km/s)^2)\n",
    "\n",
    "# Print values\n",
    "print(\"The fitted best values for the {} galaxy: \".format(chosengalaxy))\n",
    "print(\"    Central mass density of the dark matter halo = {:.3e} solar mass/kpc^3\".format(rho0))\n",
    "print(\"    Core radius of the dark matter halo = {:.3f} kpc\".format(rc))"
   ]
  },
  {
   "cell_type": "code",
   "execution_count": null,
   "metadata": {},
   "outputs": [],
   "source": [
    "# Equation for dark matter halo velocity\n",
    "def halo(r,rho0,rc):\n",
    "    v = np.sqrt(4*np.pi*G*rho0*rc**2*(1 - rc/r * np.arctan(r/rc)))\n",
    "    return v"
   ]
  },
  {
   "cell_type": "markdown",
   "metadata": {},
   "source": [
    "Now, calculate the total velocity with the dark matter component included. "
   ]
  },
  {
   "cell_type": "code",
   "execution_count": null,
   "metadata": {},
   "outputs": [],
   "source": [
    "def total_velocity_withDM(r,pref_bulge,pref_disk,rho0,rc):             \n",
    "    return np.sqrt(gas(r)**2 + bulge(r,pref_bulge)**2 + disk(r,pref_disk)**2 + halo(r,rho0,rc)**2)"
   ]
  },
  {
   "cell_type": "markdown",
   "metadata": {},
   "source": [
    "Plot all components and the total velocity with the dark matter."
   ]
  },
  {
   "cell_type": "code",
   "execution_count": null,
   "metadata": {},
   "outputs": [],
   "source": [
    "plt.figure(figsize=(12,8))\n",
    "\n",
    "plt.plot(radius, gas(radius),              label=\"Gas velocity\",   color='#1f77b4')\n",
    "plt.plot(radius, bulge(radius,pref_bulge), label=\"Bulge velocity\", color='#ff7f0e')\n",
    "plt.plot(radius, disk(radius,pref_disk),   label=\"Disk velocity\",  color='#2ca02c')\n",
    "plt.plot(radius, halo(radius,rho0,rc),     label=\"Dark matter halo velocity\",  color='#bcbd22')\n",
    "\n",
    "plt.plot(radius,total_velocity_light(radius,pref_bulge,pref_disk), label=\"Total velocity of luminous matter\", color='#d62728', linewidth=3)\n",
    "plt.plot(radius,total_velocity_withDM(radius,pref_bulge,pref_disk,rho0,rc), label=\"Total velocity with dark matter\", color='k', linewidth=3)\n",
    "\n",
    "plt.errorbar(Rad,Vobs,yerr=errV, marker='o', markersize=8, \\\n",
    "             ecolor='gray',color='gray', linestyle='none', linewidth=2, label = \"Observed velocity\")\n",
    "plt.xlabel('radius (kpc)',size=12)\n",
    "plt.ylabel('velocity (km/s)',size=12)\n",
    "plt.suptitle(str('Rotation Curve of ' + chosengalaxy), size=14)\n",
    "plt.title(str('Distance = {} Mpc'.format(distance)), size=12)\n",
    "plt.xlim(0,np.max(Rad + 0.2))\n",
    "plt.ylim(0,np.max(Vobs) + 100)\n",
    "plt.legend(bbox_to_anchor=(1,1), loc=\"upper left\")\n",
    "plt.show()"
   ]
  },
  {
   "cell_type": "markdown",
   "metadata": {},
   "source": [
    "# References <br>\n",
    ">Jimenez, Raul, Licia Verde, and S. Peng Oh. **Dark halo properties from rotation curves.** _Monthly Notices of the Royal Astronomical Society_ 339, no. 1 (2003): 243-259. https://doi.org/10.1046/j.1365-8711.2003.06165.x. <br><br>\n",
    ">Lelli, F., McGaugh, S. S., &amp; Schombert, J. M. (2016). **SPARC: Mass models for 175 disk galaxies with Spitzer photometry and accurate rotation curves.** _The Astronomical Journal_, 152(6), 157. https://doi.org/10.3847/0004-6256/152/6/157 <br><br>\n",
    ">Matt Newville, Renee Otten, Andrew Nelson, Antonino Ingargiola, Till Stensitzki, Dan Allan, Austin Fox, Faustin Carter, Michał, Ray Osborn, Dima Pustakhod, lneuhaus, Sebastian Weigand, Glenn, Christoph Deil, Mark, Allan L. R. Hansen, Gustavo Pasquevich, Leon Foks, … Arun Persaud. (2021). __lmfit/lmfit-py: 1.0.3 (1.0.3).__ Zenodo. https://doi.org/10.5281/zenodo.5570790. <br><br>\n",
    ">“Megaparsec: Cosmos.” __Megaparsec__ | _COSMOS_. Swinburne University of Technology. Accessed November 12, 2021. https://astronomy.swin.edu.au/cosmos/m/megaparsec. \n",
    "***"
   ]
  },
  {
   "cell_type": "code",
   "execution_count": null,
   "metadata": {},
   "outputs": [],
   "source": []
  }
 ],
 "metadata": {
  "kernelspec": {
   "display_name": "Python 3",
   "language": "python",
   "name": "python3"
  },
  "language_info": {
   "codemirror_mode": {
    "name": "ipython",
    "version": 3
   },
   "file_extension": ".py",
   "mimetype": "text/x-python",
   "name": "python",
   "nbconvert_exporter": "python",
   "pygments_lexer": "ipython3",
   "version": "3.8.5"
  }
 },
 "nbformat": 4,
 "nbformat_minor": 4
}
