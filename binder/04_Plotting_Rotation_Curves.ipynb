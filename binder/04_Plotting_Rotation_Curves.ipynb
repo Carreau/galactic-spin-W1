{
 "cells": [
  {
   "cell_type": "markdown",
   "metadata": {
    "tags": []
   },
   "source": [
    "### Instructions"
   ]
  },
  {
   "cell_type": "markdown",
   "metadata": {
    "tags": []
   },
   "source": [
    "When running the notebook the first time, make sure to run all cells before making changes in the notebook. Hit Shift + Enter to run the selected cell or, in the top menu, click on: `Kernel` > `Restart & Run All` > `Restart and Run All Cells` to rerun the whole notebook. If you make any changes in a cell, rerun that cell."
   ]
  },
  {
   "cell_type": "code",
   "execution_count": 1,
   "metadata": {},
   "outputs": [],
   "source": [
    "# Import dependencies\n",
    "import sys\n",
    "sys.path.append('python/')        # Define path\n",
    "import time\n",
    "startTime = time.time()           # Calculate time for running this notebook\n",
    "import numpy as np\n",
    "import matplotlib.pyplot as plt \n",
    "import matplotlib.image as mpimg\n",
    "import ipywidgets as w\n",
    "from matplotlib.widgets import RadioButtons\n",
    "import load_galaxies as lg        # Load load_galaxies.py library"
   ]
  },
  {
   "cell_type": "markdown",
   "metadata": {},
   "source": [
    "# Rotation Curve Plotting"
   ]
  },
  {
   "cell_type": "markdown",
   "metadata": {},
   "source": [
    "There are three steps of the rotation curve building process: <br>\n",
    "1. Plotting the measured velocity data\n",
    "2. Constructing the rotation curves for each component\n",
    "3. Fitting the total velocity to the measured values \n",
    "\n",
    "The following notebook explores the first and **the second step** of the process by walking you through the method of **building a rotation curve** for each component of the galaxy of your choice. The rotation of the bulge, disk and gas were traced from a scientific journal (Noordermeer 2008) for galaxy NGC 5533, or were imported from the Spitzer Photometry & Accurate Rotation Curves (SPARC) database for galaxies NGC 5005, NGC 7814, and NGC 891. These rotational velocities were derived from luminosities, surface brightness, and surface mass densities. However, the calculation is beyond the scope of this workshop. On the contrary, theoretical curves can also be obtained using empirically derived parameters, instead of full profiles. <br>\n",
    "\n",
    "_Insight: As a bonus in this workshop, the calculation for the theoretical curve of the bulge is introduced  in notebook 07\\_Bonus\\_Bulge\\_Rotation\\_Curve.ipynb_. <br>\n",
    "\n",
    "For this activity, you will calculate the rotation curve for the Dark Matter using an isothermal density profile and its two free parameters, central core density ($\\rho_0$) and radius ($r_c$). As a final exercise, you will also plot the rotation curve with its total velocities and all of its components, and modify some of the parameters to experiment with the curve.\n",
    "\n",
    "![A poster. The header reads, \"CHOOSE: WHICH GALAXY\". Below are four boxes, each contianing a galaxy name, an image of said galaxy, and some stats about the galaxy. The options are: NGC 5005, AKA Caldwell 29, Distance: 45 MLY, Size: 55,000 LY, Constellation: Canes Venatici; NGC 5533, An Unbarred Spiral Galaxy, Distance: 177 MLY, Size: 50,000 LY, Constellation: Bootes; NGC 7814, A Bulge-Dominant Galaxy, Distance: 40 MLY, Size: 80,000 LY, Constellation: Pegasus; and NGC 891, A Disk-Dominant Galaxy, Distance: 27.3 MLY, Size: 120,000 LY, Constellation: Andromeda.](images/chooseWhichGalaxy.jpg)\n",
    "\n",
    "<div class=\"alert-info\">Activity 1)</div>\n",
    "\n",
    ">Choose your galaxy: Enter `galaxy = lg.GALAXYNAME` below to select your galaxy."
   ]
  },
  {
   "cell_type": "code",
   "execution_count": 2,
   "metadata": {},
   "outputs": [],
   "source": [
    "galaxy = lg.NGC5005          # Options: lg.NGC5005 , lg.NGC5533 , lg.NGC7814 , lg.NGC0891"
   ]
  },
  {
   "cell_type": "markdown",
   "metadata": {},
   "source": [
    "### Import measured radial velocity data of the chosen galaxy"
   ]
  },
  {
   "cell_type": "code",
   "execution_count": 3,
   "metadata": {},
   "outputs": [],
   "source": [
    "# Measured data\n",
    "measured_data = galaxy['measured_data']\n",
    "\n",
    "# Separate the columns of the data into arrays\n",
    "m_radii = galaxy['m_radii']           # Radius\n",
    "m_velocities = galaxy['m_velocities'] # Velocity\n",
    "m_v_errors = galaxy['m_v_errors']     # Errors in velocity         "
   ]
  },
  {
   "cell_type": "markdown",
   "metadata": {},
   "source": [
    "### Import the light matter components"
   ]
  },
  {
   "cell_type": "markdown",
   "metadata": {},
   "source": [
    "The structure of a galaxy can be separated into individual components based on their shape to simplify the process of producing a galactic rotation curve. <br>\n",
    "\n",
    "The bulge and disk are two stellar components of spiral galaxies. The less dense disk is made from the spiral arms and the bulge is the dense spherical core of the galaxy. The mass of these components is estimated using their luminosities, then given a mass-to-light ratio. The variation in the mass-to-light ratio means there is a wider range of masses that are plausible for the stellar components.\n",
    "\n",
    "The gas is distributed somewhat evenly throughout the galaxy's disk and is composed of mainly Hydrogen. The gas's composition is determined by using light emissions spectra to identify the elements present. The element’s known molecular mass is used to calculate the gas components mass with higher accuracy. For this reason, gas rotation curves are often plotted with the gas parameters fixed, and they are multiplied by 1.33 to account for helium. \n",
    "\n",
    "Note: the following data has been interpolated or 'splined' using `scipy.interpolate.BSpline`, which means the data points has been connected and turned into a function. Below, we have called these variables as functions of radius at selected points. For example: `bulge_v(r)`, `disk_v(r)`, `gas(r)`, etc."
   ]
  },
  {
   "cell_type": "code",
   "execution_count": 4,
   "metadata": {},
   "outputs": [],
   "source": [
    "# Bulge spline\n",
    "bulge_v = galaxy['bulge']['spline']   \n",
    "# Disk spline\n",
    "disk_v = galaxy['disk']['spline']\n",
    "# Gas spline\n",
    "gas_v = galaxy['gas']['spline']"
   ]
  },
  {
   "cell_type": "markdown",
   "metadata": {
    "tags": []
   },
   "source": [
    "### For NGC 5533 ONLY: Calculate central supermassive black hole component"
   ]
  },
  {
   "cell_type": "markdown",
   "metadata": {},
   "source": [
    "**Note: If you chose a galaxy other than NGC 5533, you can proceed to the section titled 'Calculate Dark Matter Halo Component' .** <br>\n",
    "Calculate the central black hole component for galaxy NGC 5533. The other galaxies have their black hole component included with their bulge, which scientific publications may do depending on the focus of their research. For example: In a two-component model, only the halo and disk are plotted (Casertano, 1983). In the case of NGC 7814, the bulge curve that is used in these calculations includes the possible black hole. (Note that this is not specified in the article (Fraternali, Sancisi, and Kamphuis 2011) but is suggested in the NASA website: https://www.nasa.gov/feature/goddard/caldwell-43.) <br>\n",
    "\n",
    "Due to the extreme mass and negligible radius, a central supermassive black hole is represented as a point value and the rotation curve can be calculated using the orbital velocity of a point-mass (mass is not a function of radius in this case). \n",
    ">__Rotational velocity due to central supermassive black hole__: <br>\n",
    "\\begin{equation}\n",
    "v_{BH} = \\sqrt\\frac{GM_{BH}}{r}\n",
    "\\end{equation}\n",
    "<br>\n",
    ">where:<br>\n",
    "        $G$ = gravitational constant<br>\n",
    "        $M_{BH}$ = mass of central supermassive black hole<br>\n",
    "        $r$ = radius or distance from the center of the galaxy\n",
    "    <br>"
   ]
  },
  {
   "cell_type": "markdown",
   "metadata": {},
   "source": [
    "<div class=\"alert-info\">Activity 2)</div>\n",
    "\n",
    ">Modify the radius value while keeping the mass of the black hole fixed to see how it affects the velocity of the stars and gas. Use an estimate for the black hole’s mass.\n",
    "\n",
    "<div class=\"alert-info\">Activity 3)</div>\n",
    "\n",
    ">Based on the values measured, how might the black hole component be affecting the galaxy's rotational velocity?\n",
    "\n",
    "<div class=\"alert-info\">Activity 4)</div>\n",
    "\n",
    ">Change the mass of the black hole at a fixed radius to see how it affects the velocity of stars and gas. <br>\n",
    "\n",
    "_Python help: Change the value of the mass of the black hole by changing the value for massbh. For example: `massbh = 3e10`_"
   ]
  },
  {
   "cell_type": "code",
   "execution_count": 5,
   "metadata": {},
   "outputs": [
    {
     "name": "stdout",
     "output_type": "stream",
     "text": [
      "Galaxy NGC 5005 might have a central supermassive black hole but it is included in the bulge curve.\n"
     ]
    }
   ],
   "source": [
    "# Set Parameters\n",
    "massbh = galaxy['massbh']        # Mass of the central black hole in (solar mass) imported from our Python library\n",
    "radius = 10                      # Radius to calculate velocity due to black hole component (in kpc)\n",
    "G = 4.300e-6                     # Gravitational constant (kpc/solar mass*(km/s)^2)\n",
    "\n",
    "# Display the mass of the black hole\n",
    "if massbh != 0:\n",
    "    print(\"Mass of the central supermassive black hole at the center of the galaxy {}: {:.3e} solar masses\".format(galaxy['galaxyname'],massbh))\n",
    "\n",
    "# Equation for point-mass rotation curve\n",
    "def blackhole_v(r,massbh):\n",
    "    return np.sqrt((G*massbh)/r)\n",
    "\n",
    "# Displaying the value of the velocity of stars and gas at a chosen radius\n",
    "if massbh == 0:\n",
    "    print(\"Galaxy {} might have a central supermassive black hole but it is included in the bulge curve.\".format(galaxy['galaxyname']))\n",
    "if massbh != 0:\n",
    "    print(\"Radial velocity at r={}[kpc]: {:.3f} km/s\".format(radius,blackhole_v(radius,massbh)))"
   ]
  },
  {
   "cell_type": "markdown",
   "metadata": {},
   "source": [
    "### Calculate Dark Matter Halo Component"
   ]
  },
  {
   "cell_type": "markdown",
   "metadata": {},
   "source": [
    "The Isothermal Density Profile is used to model the structure of the Dark Matter halo. It takes two parameters, central core radius ($r_c$) and central core density ($\\rho_0$). The density profile is used to find the enclosed mass, which is then used to determine the rotational velocity defined by the parameters $\\rho_0$ and $r_c$ and evaluated for the best fit. (Jimenez et al. 2003). <br>\n",
    "\n",
    ">__Isothermal Density Profile__: <br>\n",
    "    \\begin{equation}\n",
    "    \\rho(r) = \\rho_{0}\\left[1+{\\left(\\frac{r}{r_c}\\right)}^{2}\\right]^{-1}\n",
    "    \\end{equation}\n",
    "    <br>\n",
    ">where:<br>\n",
    "    $\\rho_{0}$ = core density<br>\n",
    "    $r_c$ = core radius<br>\n",
    "    $r$ = radius \n",
    "    \n",
    ">__Enclosed Mass__: <br>\n",
    "    \\begin{equation}\n",
    "    M_{DM}(r) = \\int_{0}^{r} 4\\pi\\rho(r^{\\prime})r^{\\prime 2}d r^{\\prime}\n",
    "    \\end{equation}<br>\n",
    ">where:<br>\n",
    "        $M_{DM}$ = mass of the dark matter halo<br>\n",
    "        $\\rho(r)$ = density profile\n",
    "    <br>\n",
    "    \n",
    ">__Rotational Velocity__: <br>\n",
    "    \\begin{equation}\n",
    "    v_{DM}^{2}(r) = \\frac{GM_{DM}(r)}{r}\n",
    "    \\end{equation}<br>\n",
    "    \\begin{equation}\n",
    "    v_{DM}(r) = \\sqrt{4 \\pi G \\rho_{0} r_c^2 \\big( 1- \\frac{r_c}{r} \\arctan{\\frac{r}{r_c}}\\big)}\n",
    "    \\end{equation}<br>\n",
    ">where:<br>\n",
    "        $G$ = gravitational constant<br>"
   ]
  },
  {
   "cell_type": "markdown",
   "metadata": {},
   "source": [
    "<div class=\"alert-info\">Activity 5)</div>\n",
    "\n",
    ">Looking at the Isothermal Density Profile equation above, consider what happens to $\\rho_0$ at large and small radii. How does the density change as we look further from the center? <br>\n",
    "    \n",
    "<div class=\"alert-info\">Activity 6)</div>\n",
    "\n",
    ">Change the value of the three variables `rho0` (for $\\rho_0$) and `rc` (for $r_c$) and `radius`  in the next cell to see how the velocity of the dark matter changes at the selected radius."
   ]
  },
  {
   "cell_type": "code",
   "execution_count": 6,
   "metadata": {},
   "outputs": [
    {
     "name": "stdout",
     "output_type": "stream",
     "text": [
      "Dark matter halo parameters: \n",
      "     Central mass density: 1.69e+07 solar mass/kpc^3\n",
      "     Core radius: 9.92 kpc\n",
      "     Velocity at 10 kpc: 139.722 km/s\n"
     ]
    }
   ],
   "source": [
    "# Set parameters\n",
    "rho0 = galaxy['rho0']   # central mass density (in solar mass/kpc^3)\n",
    "rc = galaxy['rc']       # core radius (in kpc)\n",
    "radius = 10             # radius (in kpc)\n",
    "\n",
    "# Display the two dark matter parameters\n",
    "print(\"Dark matter halo parameters: \")\n",
    "print(\"     Central mass density: {:.2e} solar mass/kpc^3\".format(rho0))\n",
    "print(\"     Core radius: {:.2f} kpc\".format(rc))\n",
    "\n",
    "# Equation for dark matter halo velocity\n",
    "def halo_v(r,rho0,rc):\n",
    "    v = np.sqrt(4*np.pi*G*rho0*rc**2*(1 - rc/r * np.arctan(r/rc)))\n",
    "    return v\n",
    "\n",
    "# Display the velocity at the selected radius\n",
    "print(\"     Velocity at {} kpc: {:.3f} km/s\".format(radius,halo_v(radius,rho0,rc)))"
   ]
  },
  {
   "cell_type": "markdown",
   "metadata": {},
   "source": [
    "### Calculate total velocity"
   ]
  },
  {
   "cell_type": "markdown",
   "metadata": {},
   "source": [
    "All components of the galaxy contribute to the rotation curve or the total velocity of stars and gas. This can be added quadratically in the following way:\n",
    "\n",
    ">__Total velocity__: <br>\n",
    "    \\begin{equation}\n",
    "    v_{total}(r) = \\sqrt{v_{bulge}^2 + v_{disk}^2 + v_{gas}^2 + v_{blackhole}^2 + v_{dm\\ halo}^2}\n",
    "    \\end{equation}<br>"
   ]
  },
  {
   "cell_type": "markdown",
   "metadata": {},
   "source": [
    "### Scaling parameter (Mass-to-Light ratio)"
   ]
  },
  {
   "cell_type": "markdown",
   "metadata": {},
   "source": [
    "The scaling parameter is analogous to the mass-to-light ratio (M/L) that indicates how much mass it is expected from the light source. Because the mass is a rough estimation, the mass-to-light ratio is a good free parameter to use for curve fitting (see _08\\_Interactive\\_Fitting.ipynb_ module). \n",
    "\n",
    "Suggestions on the scaling parameters: \n",
    "- NGC 891 : Notice that the disk and the bulge rotation curve is much higher than the measured velocity (data was imported from SPARC). This discrepancy can be later fixed by fitting these curves to the measured data points. For now, you may scale it down to 1/2 or 3/4. (i.e. `bpref = 0.75`, `dpref = 0.5`)\n",
    "- NGC 7814 : Similar to NGC 891, the disk and bulge should be scaled down to align with the measured velocities well. (i.e. `bpref = 0.75`, `dpref = 0.8`)"
   ]
  },
  {
   "cell_type": "markdown",
   "metadata": {},
   "source": [
    "<div class=\"alert-info\">Activity 7)</div>\n",
    "\n",
    ">Modify the total rotational velocity WITHOUT the Dark Matter component by changing the scaling parameters of each galaxy component. For example: if you want the contribution from the disk to the rotation curve to be doubled, change `dpref = 1` to `dpref = 2`.\n",
    "\n",
    "_Python help: Rerun the notebook to see the changes in the graph by hitting Shift+Enter on both the cells or by clicking on the menu: `Kernel` > `Restart and Run All Cells...`._"
   ]
  },
  {
   "cell_type": "code",
   "execution_count": 20,
   "metadata": {
    "tags": []
   },
   "outputs": [],
   "source": [
    "# Scaling parameters\n",
    "bpref = 0.75 #1      # Bulge \n",
    "dpref = 0.75 #1      # Disk\n",
    "gpref = 1      # Gas\n",
    "bhpref = 1     # Central supermassive black hole"
   ]
  },
  {
   "cell_type": "code",
   "execution_count": 21,
   "metadata": {},
   "outputs": [],
   "source": [
    "# Total velocity WITHOUT dark matter halo component but with adjustable prefactors\n",
    "def total_v_noDM(r,massbh):\n",
    "    v = np.sqrt( (bpref * bulge_v(r))**2                   # bulge component + scaling parameter\n",
    "               + (dpref * disk_v(r))**2                    # disk component + scaling parameter\n",
    "               + (gpref * gas_v(r))**2                     # gas component + scaling parameter\n",
    "               + (bhpref * blackhole_v(r,massbh))**2)      # central supermassive black hole component + scaling factor\n",
    "    return v"
   ]
  },
  {
   "cell_type": "markdown",
   "metadata": {},
   "source": [
    "<div class=\"alert-info\">Activity 8)</div>\n",
    "\n",
    ">Modify the total rotational velocity WITH the Dark Matter component by commenting out each galaxy component included in the _total_v_ function below to see how it affects the total rotation curve plotted at the end of the notebook. For example: remove the bulge by inserting a pound sign `#` before the term: `(bpref * bulge_v(r)**2`.<br>"
   ]
  },
  {
   "cell_type": "code",
   "execution_count": 22,
   "metadata": {},
   "outputs": [],
   "source": [
    "# Total velocity WITH dark matter halo component\n",
    "def total_v(r,massbh,rho0,rc):\n",
    "    v = np.sqrt( \n",
    "        (bpref * bulge_v(r))**2                  # bulge component\n",
    "        + (dpref * disk_v(r))**2                 # disk component\n",
    "        + (gpref * gas_v(r))**2                  # gas component\n",
    "        + (bhpref * blackhole_v(r,massbh))**2    # central black hole component (this might be zero for NGC 891, NGC 7814 and NGC 5005 but it is because it's included in the bulge velocity)\n",
    "        + halo_v(r,rho0,rc)**2)                  # dark matter halo component\n",
    "    return v"
   ]
  },
  {
   "cell_type": "markdown",
   "metadata": {},
   "source": [
    "### Plot all components and total velocity"
   ]
  },
  {
   "cell_type": "markdown",
   "metadata": {},
   "source": [
    "In the graph at the end of this notebook, notice the difference between the total velocity with the Dark Matter halo component (red) and without the Dark Matter halo component (yellow). <br><br>\n",
    "\n",
    "<div class=\"alert-info\">Activity 9)</div>\n",
    "\n",
    ">Using the scaling parameters defined in Activty 7 above, are you able to scale the components of the total velocity without the Dark Matter component to match the curve of the measured data? Do these scaling parameters make sense or are they unreasonable? <br>\n",
    "\n",
    "_Insight: In the activity 08\\_Interactive\\_Fitting.ipynb, you won't have to guess these scaling parameters. Instead, you will be able to \"fit\" all curves to the measured data points and see what these multipliers might be._"
   ]
  },
  {
   "cell_type": "code",
   "execution_count": 23,
   "metadata": {},
   "outputs": [
    {
     "data": {
      "image/png": "[encoded data removed]",
      "text/plain": [
       "<Figure size 720x504 with 1 Axes>"
      ]
     },
     "metadata": {
      "needs_background": "light"
     },
     "output_type": "display_data"
    }
   ],
   "source": [
    "# Define radius for plotting\n",
    "r_lowerlim = np.min(m_radii)                       # limit the radius to the min value of the measured radius\n",
    "if r_lowerlim == 0:                                # getting rid of dividing by zero error\n",
    "    r_lowerlim = 0.01\n",
    "r_upperlim = np.max(m_radii)                       # limit the radius to the max value of the measured radius\n",
    "r = np.linspace(r_lowerlim,r_upperlim,100)         # starting from zero results in a divide by zero error\n",
    "\n",
    "# Plot \n",
    "plt.figure(figsize=(10.0,7.0))                     # size of the plot\n",
    "plt.plot(r, bpref * bulge_v(r),            color='m', label='Bulge')\n",
    "plt.plot(r, dpref * disk_v(r),             color='b', label='Stellar disk')                        \n",
    "plt.plot(r, gpref * gas_v(r),              color='c', label='Gas')            \n",
    "plt.plot(r, bhpref * blackhole_v(r,massbh), color='k', label='Central black hole')    # only for NGC 5533         \n",
    "plt.plot(r, halo_v(r,rho0,rc),     color='g', label='Dark Matter Halo')   \n",
    "\n",
    "plt.plot(r, total_v(r,massbh,rho0,rc), color='r',    label='Total curve with DM')\n",
    "plt.plot(r, total_v_noDM(r,massbh),    color='gold', label='Total curve without DM')\n",
    "\n",
    "plt.errorbar(m_radii, m_velocities, yerr=m_v_errors, \n",
    "             marker='o', markersize=8,\n",
    "             linestyle='none', \n",
    "             label='{}'.format(galaxy['galaxyname']))\n",
    "\n",
    "plt.title('Rotation curve of {}'.format(galaxy['galaxyname']), fontsize=16)     # giving the plot a title\n",
    "plt.xlabel('Radius (kpc)', fontsize=12)                           # labeling the x-axis\n",
    "plt.ylabel('Velocity (km/s)', fontsize=12)                        # labeling the y-axis\n",
    "plt.xlim(0,r_upperlim)                                            # limits of the x-axis\n",
    "plt.ylim(0,350)                                                   # limits of the y-axis\n",
    "plt.legend(bbox_to_anchor=(1,1), loc=\"upper left\")\n",
    "plt.show()"
   ]
  },
  {
   "cell_type": "code",
   "execution_count": 11,
   "metadata": {},
   "outputs": [
    {
     "name": "stdout",
     "output_type": "stream",
     "text": [
      "Execution time: 0.05 minutes\n"
     ]
    }
   ],
   "source": [
    "#NBVAL_IGNORE_OUTPUT\n",
    "#Because the timing won't be exactly the same each time.\n",
    "# Time\n",
    "executionTime = (time.time() - startTime)\n",
    "ttt = executionTime/60\n",
    "print(f'Execution time: {ttt:.2f} minutes')"
   ]
  },
  {
   "cell_type": "markdown",
   "metadata": {},
   "source": [
    "### References"
   ]
  },
  {
   "cell_type": "markdown",
   "metadata": {},
   "source": [
    ">Casertano, Stefano. **Rotation curve of the edge-on spiral galaxy NGC 5907: disc and halo masses.** _Monthly Notices of the Royal Astronomical Society_ 203, no. 3 (1983): 735-747. https://doi.org/10.1093/mnras/203.3.735. <br><br>\n",
    ">Fraternali, F., R. Sancisi, and P. Kamphuis. **A Tale of Two Galaxies: Light and Mass in NGC 891 and NGC 7814.** Astronomy &amp; Astrophysics 531 (June 13, 2011). https://doi.org/10.1051/0004-6361/201116634.<br><br> \n",
    ">Jimenez, Raul, Licia Verde, and S. Peng Oh. **Dark halo properties from rotation curves.** _Monthly Notices of the Royal Astronomical Society_ 339, no. 1 (2003): 243-259. https://doi.org/10.1046/j.1365-8711.2003.06165.x. <br><br>\n",
    ">Kapteyn Institute. (n.d.). Groningen Image Processing System. **GIPSY, the GRONINGEN image processing system.** https://www.astro.rug.nl/~gipsy/index.html. <br><br>\n",
    ">Karukes, E. V., P. Salucci, and Gianfranco Gentile. **The dark matter distribution in the spiral NGC 3198 out to 0.22 $R_{vir}$.** _Astronomy & Astrophysics_ 578 (2015): A13. https://doi.org/10.1051/0004-6361/201425339. <br><br>\n",
    ">Noordermeer, Edo. **The rotation curves of flattened Sérsic bulges.** _Monthly Notices of the Royal Astronomical Society_ 385, no. 3 (2007): 1359-1364. https://doi.org/10.1111/j.1365-2966.2008.12837.x. <br><br>\n",
    ">Richards, Emily E., L. van Zee, K. L. Barnes, S. Staudaher, D. A. Dale, T. T. Braun, D. C. Wavle, et al. **Baryonic Distributions in the Dark Matter Halo of NGC 5005.** Monthly Notices of the Royal Astronomical Society 449, no. 4 (June 1, 2015): 3981–96. https://doi.org/10.1093/mnras/stv568. \n",
    "***"
   ]
  },
  {
   "cell_type": "markdown",
   "metadata": {},
   "source": [
    "### Images"
   ]
  },
  {
   "cell_type": "markdown",
   "metadata": {},
   "source": [
    ">**NGC5005**: Based on observations made with the NASA/ESA Hubble Space Telescope, and obtained from the Hubble Legacy Archive, which is a collaboration between the Space Telescope Science Institute (STScI/NASA), the Space Telescope European Coordinating Facility (ST-ECF/ESA) and the Canadian Astronomy Data Centre (CADC/NRC/CSA).<br>\n",
    ">**NGC5533**: Sloan Digital Sky Survey, DR14 with SciServer https://www.sdss.org/dr14/imaging/jpg-images-on-skyserver/<br>\n",
    ">**NGC7814**: Adam Block/Mount Lemmon SkyCenter/University of Arizona http://www.caelumobservatory.com/gallery/n7814.shtml<br>\n",
    ">**NGC891**: Adam Block/Mount Lemmon SkyCenter/University of Arizona https://apod.nasa.gov/apod/ap170112.html"
   ]
  }
 ],
 "metadata": {
  "kernelspec": {
   "display_name": "Python 3 (ipykernel)",
   "language": "python",
   "name": "python3"
  },
  "language_info": {
   "codemirror_mode": {
    "name": "ipython",
    "version": 3
   },
   "file_extension": ".py",
   "mimetype": "text/x-python",
   "name": "python",
   "nbconvert_exporter": "python",
   "pygments_lexer": "ipython3",
   "version": "3.9.7"
  }
 },
 "nbformat": 4,
 "nbformat_minor": 4
}
