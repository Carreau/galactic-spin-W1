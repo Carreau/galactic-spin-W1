{
 "cells": [
  {
   "cell_type": "code",
   "execution_count": 1,
   "metadata": {},
   "outputs": [
    {
     "name": "stderr",
     "output_type": "stream",
     "text": [
      "C:\\Users\\JB\\AppData\\Local\\Continuum\\anaconda3\\lib\\site-packages\\traitlets\\traitlets.py:567: FutureWarning: elementwise comparison failed; returning scalar instead, but in the future will perform elementwise comparison\n",
      "  silent = bool(old_value == new_value)\n"
     ]
    }
   ],
   "source": [
    "import sys\n",
    "sys.path.append('python/')                # define path for libraries\n",
    "import numpy as np\n",
    "import matplotlib.pyplot as plt          \n",
    "import downloadSPARCdata as dsd           # import library to download data files\n",
    "from IPython.display import Javascript, display, clear_output"
   ]
  },
  {
   "cell_type": "markdown",
   "metadata": {},
   "source": [
    "## Download SPARC data files"
   ]
  },
  {
   "cell_type": "code",
   "execution_count": 2,
   "metadata": {},
   "outputs": [
    {
     "name": "stdout",
     "output_type": "stream",
     "text": [
      "Would you like to download SPARC data files to your computer?\n"
     ]
    },
    {
     "data": {
      "application/vnd.jupyter.widget-view+json": {
       "model_id": "3e8898a4c6d040088d2485cabd4e63d8",
       "version_major": 2,
       "version_minor": 0
      },
      "text/plain": [
       "VBox(children=(HBox(children=(Button(button_style='success', description='Yes', icon='check', style=ButtonStyl…"
      ]
     },
     "metadata": {},
     "output_type": "display_data"
    }
   ],
   "source": [
    "print(\"Would you like to download SPARC data files to your computer?\")\n",
    "dsd.displaybuttons"
   ]
  },
  {
   "cell_type": "markdown",
   "metadata": {},
   "source": [
    "## Choose a galaxy"
   ]
  },
  {
   "cell_type": "code",
   "execution_count": 3,
   "metadata": {},
   "outputs": [
    {
     "data": {
      "application/vnd.jupyter.widget-view+json": {
       "model_id": "195a9bda65a040719b74a59236dd3263",
       "version_major": 2,
       "version_minor": 0
      },
      "text/plain": [
       "Dropdown(description='Galaxy:', index=79, options=('CamB', 'D512-2', 'D564-8', 'D631-7', 'DDO064', 'DDO154', '…"
      ]
     },
     "metadata": {},
     "output_type": "display_data"
    }
   ],
   "source": [
    "galaxylist = ['NGC5005']                 # default list of galaxies  \n",
    "dsd.galaxyoptions\n",
    "def on_change(change):                   # add selected galaxynames to the list\n",
    "    if change['type'] == 'change' and change['name'] == 'value':\n",
    "        galaxylist.append(change['new'])\n",
    "        display(Javascript('IPython.notebook.execute_cell_range(IPython.notebook.get_selected_index()+1, IPython.notebook.ncells())'))\n",
    "dsd.galaxyoptions.observe(on_change)\n",
    "display(dsd.galaxyoptions)"
   ]
  },
  {
   "cell_type": "code",
   "execution_count": 4,
   "metadata": {},
   "outputs": [],
   "source": [
    "chosengalaxy = galaxylist[-1]              # define the last element of the list as the selected galaxy\n",
    "\n",
    "# Writing the chosen galaxy name in a text file\n",
    "textfile = open(\"python/chosengalaxy.txt\", \"w\")\n",
    "textfile.write(chosengalaxy)\n",
    "textfile.close()\n",
    "textfile = open(\"python/chosengalaxy.txt\", \"r\")\n",
    "textfile.close()"
   ]
  },
  {
   "cell_type": "markdown",
   "metadata": {},
   "source": [
    "## Interactive rotation curve widget"
   ]
  },
  {
   "cell_type": "code",
   "execution_count": 5,
   "metadata": {},
   "outputs": [],
   "source": [
    "import widget_SPARC as widget              # Import widget library\n",
    "import importlib\n",
    "importlib.reload(widget)                   # Reload widget library so the changes take effect\n",
    "clear_output()"
   ]
  },
  {
   "cell_type": "code",
   "execution_count": 6,
   "metadata": {
    "scrolled": false
   },
   "outputs": [
    {
     "data": {
      "application/vnd.jupyter.widget-view+json": {
       "model_id": "f8794cd116704a7485e79562d3130dd7",
       "version_major": 2,
       "version_minor": 0
      },
      "text/plain": [
       "VBox(children=(Button(button_style='warning', description='Best Fit', icon='check', style=ButtonStyle()), Outp…"
      ]
     },
     "metadata": {},
     "output_type": "display_data"
    }
   ],
   "source": [
    "# Widget Output\n",
    "widget.VBox([widget.button,widget.out,widget.interactive_plot(widget.widgetfunction)])"
   ]
  },
  {
   "cell_type": "code",
   "execution_count": 7,
   "metadata": {},
   "outputs": [
    {
     "data": {
      "text/html": [
       "<h2> Model</h2> Model(totalcurve) <h2>Fit Statistics</h2><table><tr><td>fitting method</td><td>leastsq</td><td></td></tr><tr><td># function evals</td><td>57</td><td></td></tr><tr><td># data points</td><td>18</td><td></td></tr><tr><td># variables</td><td>4</td><td></td></tr><tr><td>chi-square</td><td> 0.78619513</td><td></td></tr><tr><td>reduced chi-square</td><td> 0.05615680</td><td></td></tr><tr><td>Akaike info crit.</td><td>-48.3565963</td><td></td></tr><tr><td>Bayesian info crit.</td><td>-44.7951092</td><td></td></tr></table><h2>Variables</h2><table><tr><th> name </th><th> value </th><th> standard error </th><th> relative error </th><th> initial value </th><th> min </th><th> max </th><th> vary </th></tr><tr><td> bpref </td><td>  0.70847166 </td><td>  0.01592291 </td><td> 2.25% </td><td> 1 </td><td>  0.50000000 </td><td>  100.000000 </td><td> True </td></tr><tr><td> dpref </td><td>  0.77294583 </td><td>  0.02115805 </td><td> 2.74% </td><td> 1 </td><td>  0.50000000 </td><td>  100.000000 </td><td> True </td></tr><tr><td> rc </td><td>  9.91714117 </td><td>  6.61321832 </td><td> 66.68% </td><td> 1.4 </td><td>  0.10000000 </td><td>         inf </td><td> True </td></tr><tr><td> rho0 </td><td>  16926176.2 </td><td>  9307722.23 </td><td> 54.99% </td><td> 310000000.0 </td><td>  0.00000000 </td><td>         inf </td><td> True </td></tr></table><h2>Correlations (unreported correlations are < 0.100)</h2><table><tr><td>rc</td><td>rho0</td><td>-0.9840</td></tr><tr><td>dpref</td><td>rho0</td><td>-0.8945</td></tr><tr><td>dpref</td><td>rc</td><td>0.8280</td></tr><tr><td>bpref</td><td>dpref</td><td>-0.7785</td></tr><tr><td>bpref</td><td>rho0</td><td>0.5534</td></tr><tr><td>bpref</td><td>rc</td><td>-0.4797</td></tr></table>"
      ],
      "text/plain": [
       "<lmfit.model.ModelResult at 0x1ac4d2bb5c0>"
      ]
     },
     "execution_count": 7,
     "metadata": {},
     "output_type": "execute_result"
    }
   ],
   "source": [
    "# Show fit statistics\n",
    "widget.fit"
   ]
  },
  {
   "cell_type": "markdown",
   "metadata": {},
   "source": [
    "## References <br>\n",
    ">Lelli, Federico, Stacy S. McGaugh, and James M. Schombert. __“SPARC: Mass Models for 175 Disk Galaxies with Spitzer Photometry and Accurate Rotation Curves.”__ _The Astronomical Journal 152_, no. 6 (2016): 157. https://doi.org/10.3847/0004-6256/152/6/157. <br><br>"
   ]
  },
  {
   "cell_type": "code",
   "execution_count": null,
   "metadata": {},
   "outputs": [],
   "source": []
  }
 ],
 "metadata": {
  "kernelspec": {
   "display_name": "Python 3",
   "language": "python",
   "name": "python3"
  },
  "language_info": {
   "codemirror_mode": {
    "name": "ipython",
    "version": 3
   },
   "file_extension": ".py",
   "mimetype": "text/x-python",
   "name": "python",
   "nbconvert_exporter": "python",
   "pygments_lexer": "ipython3",
   "version": "3.7.1"
  }
 },
 "nbformat": 4,
 "nbformat_minor": 4
}
