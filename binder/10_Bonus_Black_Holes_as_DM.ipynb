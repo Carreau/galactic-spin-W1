{
 "cells": [
  {
   "cell_type": "markdown",
   "metadata": {},
   "source": [
    "## Instructions\n",
    "Please be patient while waiting for the environment to load; it may take a few minutes. \n",
    "Once the notebook has finished loading, in the top bar, select `Kernel`--> `Restart & Run All`. \n",
    "Once cell has finished running, you should see a plot with sliders appear at the bottom.\n",
    "Enjoy!"
   ]
  },
  {
   "cell_type": "markdown",
   "metadata": {},
   "source": [
    "## Tiny black holes as dark matter"
   ]
  },
  {
   "cell_type": "markdown",
   "metadata": {},
   "source": [
    "What if dark matter is not some unknown matter but made up of tiny primordial black holes instead? How many of these tiny black holes do we need to account for all the missing matter? <br>\n",
    "In the following activity, you are investigating two galaxies, NGC 5533 and NGC 7814. Both of which have rotation curve shapes that indicate the presence of dark matter. With the help of an interactive widget, you can add tiny black holes to the \"ingredients\" of a galaxy. The black holes are randomly distributed, based on the number and a cutoff radius. <br>"
   ]
  },
  {
   "cell_type": "markdown",
   "metadata": {},
   "source": [
    "### NGC 5533"
   ]
  },
  {
   "cell_type": "code",
   "execution_count": 1,
   "metadata": {},
   "outputs": [
    {
     "data": {
      "application/vnd.jupyter.widget-view+json": {
       "model_id": "df777860ca744a1ba90af645c156b9ad",
       "version_major": 2,
       "version_minor": 0
      },
      "text/plain": [
       "VBox(children=(Button(button_style='warning', description='Best Fit', icon='check', style=ButtonStyle()), Outp…"
      ]
     },
     "metadata": {},
     "output_type": "display_data"
    }
   ],
   "source": [
    "import sys;\n",
    "sys.path.append('python/');\n",
    "import widget_BH as widget;\n",
    "%matplotlib inline\n",
    "# Widget Output\n",
    "widget.VBox([widget.button_5533,widget.out_5533,widget.interactive_plot_5533(widget.f5533)])"
   ]
  },
  {
   "cell_type": "markdown",
   "metadata": {},
   "source": [
    "### Description for NGC 5533 slider:\n",
    "\n",
    "Black holes are ***MACHOs*** or Massive Compact Halo Objects. They are hard to detect with our present technology, especially if they have small masses. For example, a black hole with the mass of our sun has an event horizon radius of 3 km. A solar-mass sized black hole would be so tiny that the only way we would be able to see it is by gravitational microlensing (blackhole passing in front of a star). \n",
    "\n",
    "The left photo is an arbitrary face-on galaxy (NGC 6814) for a better visualization of the spread of the number of black holes. ***Each dot represents 1 million tiny black holes***. \n",
    "\n",
    "Increasing the number and mass of each black hole can change the velocities of the stars in a galaxy (velocity curve), according to Newton's law of gravitation.<br>\n",
    "There are three sliders that can change the velocity curve of the dark halo. \n",
    "1. ***Number of millions of tiny black holes***: We need to start with an incredibly high number of tiny black holes to account for the dark matter halo curve. Starting with merely 50 million, all the way up to 500 million tiny black holes, the velocity curve changes drastically.\n",
    "2. ***Mass of each tiny black hole (in solar masses)***: Starting from 0.1 solar masses, and up to 3.8 solar masses (which is the smallest black hole ever discovered), this slider can change the mass of each black hole. \n",
    "3. ***Cutoff radius***: The cutoff radius (also called \"scale radius\") indicates where the density falls off by a factor of e (~2.7). Adjusting this factor changes where the \"bump\" of the curve is located. \n",
    "\n",
    "All other components (bulge, disk, central supermassive black hole) are fixed in this case to be able to focus on the dark matter component.  \n",
    "\n",
    "### ... \n",
    "If you wish to see the optimal number and individual mass of theoretical black holes, press the `Best Fit` button at any time. But be creative, there's more than one optimal combination. Enjoy!"
   ]
  },
  {
   "cell_type": "markdown",
   "metadata": {},
   "source": [
    "### NGC 7814"
   ]
  },
  {
   "cell_type": "code",
   "execution_count": 2,
   "metadata": {},
   "outputs": [
    {
     "data": {
      "application/vnd.jupyter.widget-view+json": {
       "model_id": "b337e713d8df49669e2b6b304665ace8",
       "version_major": 2,
       "version_minor": 0
      },
      "text/plain": [
       "VBox(children=(Button(button_style='warning', description='Best Fit', icon='check', style=ButtonStyle()), Outp…"
      ]
     },
     "metadata": {},
     "output_type": "display_data"
    }
   ],
   "source": [
    "%matplotlib inline\n",
    "widget.VBox([widget.button_7814,widget.out_7814,widget.interactive_plot_7814(widget.f7814)])"
   ]
  },
  {
   "cell_type": "markdown",
   "metadata": {},
   "source": [
    "## Description for NGC 7814 slider:\n",
    "\n",
    "### Right Graph:\n",
    "The rotation curve of NGC 7814 (represented by blue data points in the right graph) is emulated after Fraternali et al. (2011). The graph to the right represents an interactive rotation curve of NGC 7814 similar to what you can see in our rotation curve widget program, however, in this case all components have been fixed except for the dark matter component (green line), and now it is modeled based on a hypothetical mass distribution of small black holes.\n",
    "### Left Graph:\n",
    "The left graph shows a visual helper of what the rotation curve is physically describing (note that the galaxy image used is NOT of NGC 7814, but a similar spiral galaxy, NGC 6814). Here, each dot represents 1 million black holes (an arbitrary scaling factor). Keep careful watch as you move the sliders to see each \"black hole\" (red dots) change in quantity and size. It's up to you to choose how many black holes (by factors of 1 million) and masses of each black hole in solar masses (1 solar mass = $2 × 10^{30}$ kilograms) to find a \"best fit\" rotation curve, which is to say, a mass distribution of black holes that would most closely match real observations.\n",
    "### ... \n",
    "If you wish to see the optimal number and individual mass of theoretical black holes, press the `Best Fit` button at any time. But be creative, there's more than one optimal combination. Enjoy!"
   ]
  },
  {
   "cell_type": "markdown",
   "metadata": {},
   "source": [
    "## Image Sources:\n",
    ">“A Spiral Snowflake.” The European Space Agency, ESA/Hubble &amp; NASA, 9 May 2016, http://esahubble.org/images/potw1619a/ .\n",
    "\n",
    "## References: \n",
    ">F.  Fraternali, R.  Sancisi, P.  Kamphuis (2011), **A tale of two galaxies: light and mass in NGC 891 and NGC 7814**. Astronomy & Astrophysics, 531: A64. https://doi.org/10.1051/0004-6361/201116634 <br><br>\n",
    ">Jimenez, Raul, Licia Verde, and S. Peng Oh. **Dark halo properties from rotation curves.** _Monthly Notices of the Royal Astronomical Society_ 339, no. 1 (2003): 243-259. https://doi.org/10.1046/j.1365-8711.2003.06165.x. <br><br>\n",
    ">Matt Newville, Renee Otten, Andrew Nelson, Antonino Ingargiola, Till Stensitzki, Dan Allan, Austin Fox, Faustin Carter, Michał, Ray Osborn, Dima Pustakhod, lneuhaus, Sebastian Weigand, Glenn, Christoph Deil, Mark, Allan L. R. Hansen, Gustavo Pasquevich, Leon Foks, … Arun Persaud. (2021). __\"lmfit/lmfit-py: 1.0.3 (1.0.3).\"__ Zenodo. https://doi.org/10.5281/zenodo.5570790. <br><br>\n",
    ">Noordermeer, E., &amp; Van Der Hulst, J. M. (2007). **The stellar mass distribution in early-type disc galaxies: Surface Photometry and bulge–disc decompositions.** Monthly Notices of the Royal Astronomical Society, 376(4), 1480–1512. https://doi.org/10.1111/j.1365-2966.2007.11532.x <br><br>\n",
    ">Noordermeer, E. (2008), **The rotation curves of flattened Sérsic bulges**. Monthly Notices of the Royal Astronomical Society, 385: 1359-1364. https://doi.org/10.1111/j.1365-2966.2008.12837.x <br><br>\n",
    ">**The Smallest Known Black Hole**. Scientific American, 2 Apr. 2008, www.scientificamerican.com/gallery/the-smallest-known-black-hole. <br><br>\n",
    ">**GIPSY, the Groningen Image Processing System**. GIPSY, www.astro.rug.nl/~gipsy/index.html. Accessed 2020-2021."
   ]
  },
  {
   "cell_type": "code",
   "execution_count": null,
   "metadata": {},
   "outputs": [],
   "source": []
  }
 ],
 "metadata": {
  "kernelspec": {
   "display_name": "Python 3 (ipykernel)",
   "language": "python",
   "name": "python3"
  },
  "language_info": {
   "codemirror_mode": {
    "name": "ipython",
    "version": 3
   },
   "file_extension": ".py",
   "mimetype": "text/x-python",
   "name": "python",
   "nbconvert_exporter": "python",
   "pygments_lexer": "ipython3",
   "version": "3.9.7"
  }
 },
 "nbformat": 4,
 "nbformat_minor": 4
}
