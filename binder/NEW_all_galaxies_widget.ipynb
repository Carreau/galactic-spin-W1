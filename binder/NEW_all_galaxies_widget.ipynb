{
 "cells": [
  {
   "cell_type": "code",
   "execution_count": 1,
   "metadata": {},
   "outputs": [],
   "source": [
    "galaxy='NGC5005' #rename this variable to your chosen galaxy. options: NGC5533, NGC891, NGC5005, NGC7814"
   ]
  },
  {
   "cell_type": "code",
   "execution_count": 2,
   "metadata": {
    "scrolled": false
   },
   "outputs": [
    {
     "data": {
      "application/vnd.jupyter.widget-view+json": {
       "model_id": "fc0b2ab09a6a4996b5ec0a22e8454b5b",
       "version_major": 2,
       "version_minor": 0
      },
      "text/plain": [
       "VBox(children=(Button(button_style='warning', description='Best Fit', icon='check', style=ButtonStyle()), Outp…"
      ]
     },
     "metadata": {},
     "output_type": "display_data"
    }
   ],
   "source": [
    "# Writing the chosen galaxy name in a text file\n",
    "f = open(\"python/wgalaxy.txt\", \"w\")\n",
    "f.write(galaxy)\n",
    "f.close()\n",
    "# apparently you need to open the file again and read it and close it for the changes to stick\n",
    "f = open(\"python/wgalaxy.txt\", \"r\")\n",
    "f.close()\n",
    "#Imports\n",
    "import sys;\n",
    "sys.path.append('python/')\n",
    "if galaxy=='NGC5533':\n",
    "    import NGC5533_widget as w\n",
    "else:\n",
    "    import ONE_widget_library as w\n",
    "# Widget Output\n",
    "w.VBox([w.button,w.out,w.interactive_plot(w.f)])"
   ]
  },
  {
   "cell_type": "code",
   "execution_count": null,
   "metadata": {},
   "outputs": [],
   "source": []
  }
 ],
 "metadata": {
  "kernelspec": {
   "display_name": "Python 3",
   "language": "python",
   "name": "python3"
  },
  "language_info": {
   "codemirror_mode": {
    "name": "ipython",
    "version": 3
   },
   "file_extension": ".py",
   "mimetype": "text/x-python",
   "name": "python",
   "nbconvert_exporter": "python",
   "pygments_lexer": "ipython3",
   "version": "3.8.3"
  }
 },
 "nbformat": 4,
 "nbformat_minor": 4
}
