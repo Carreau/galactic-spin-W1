{
 "cells": [
  {
   "cell_type": "code",
   "execution_count": 1,
   "metadata": {},
   "outputs": [],
   "source": [
    "galaxy='NGC5533' #rename this variable to your chosen galaxy"
   ]
  },
  {
   "cell_type": "code",
   "execution_count": 2,
   "metadata": {
    "scrolled": false
   },
   "outputs": [
    {
     "name": "stdout",
     "output_type": "stream",
     "text": [
      "69\n",
      "2073\n",
      "2053\n",
      "2107\n"
     ]
    },
    {
     "data": {
      "application/vnd.jupyter.widget-view+json": {
       "model_id": "4f74fca98971443aba2e503bf185372a",
       "version_major": 2,
       "version_minor": 0
      },
      "text/plain": [
       "VBox(children=(Button(button_style='warning', description='Best Fit', icon='check', style=ButtonStyle()), Outp…"
      ]
     },
     "metadata": {},
     "output_type": "display_data"
    },
    {
     "data": {
      "image/png": "[encoded data removed]",
      "text/plain": [
       "<Figure size 792x432 with 1 Axes>"
      ]
     },
     "metadata": {
      "needs_background": "light"
     },
     "output_type": "display_data"
    }
   ],
   "source": [
    "# Writing the chosen galaxy name in a text file\n",
    "f = open(\"python/wgalaxy.txt\", \"w\")\n",
    "f.write(galaxy)\n",
    "f.close()\n",
    "# apparently you need to open the file again and read it and close it for the changes to stick\n",
    "f = open(\"python/wgalaxy.txt\", \"r\")\n",
    "f.close()\n",
    "#Imports\n",
    "import sys;\n",
    "sys.path.append('python/')\n",
    "import ONE_widget_library as w\n",
    "# Widget Output\n",
    "w.VBox([w.button,w.out,w.interactive_plot(w.f)])"
   ]
  },
  {
   "cell_type": "code",
   "execution_count": null,
   "metadata": {},
   "outputs": [],
   "source": []
  }
 ],
 "metadata": {
  "kernelspec": {
   "display_name": "Python 3",
   "language": "python",
   "name": "python3"
  },
  "language_info": {
   "codemirror_mode": {
    "name": "ipython",
    "version": 3
   },
   "file_extension": ".py",
   "mimetype": "text/x-python",
   "name": "python",
   "nbconvert_exporter": "python",
   "pygments_lexer": "ipython3",
   "version": "3.8.3"
  }
 },
 "nbformat": 4,
 "nbformat_minor": 4
}
