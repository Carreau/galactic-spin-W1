{
 "cells": [
  {
   "cell_type": "markdown",
   "metadata": {
    "tags": []
   },
   "source": [
    "### Instructions\n",
    "\n",
    "When running the notebook the first time, make sure to run all cells before making changes in the notebook. Hit Shift + Enter to run the selected cell or, in the top menu, click on: `Kernel` > `Restart & Run All` > `Restart and Run All Cells` to rerun the whole notebook. If you make any changes in a cell, rerun that cell."
   ]
  },
  {
   "cell_type": "code",
   "execution_count": 1,
   "metadata": {},
   "outputs": [],
   "source": [
    "# Import dependencies\n",
    "import sys\n",
    "sys.path.append('python/')\n",
    "import numpy as np\n",
    "import matplotlib.pyplot as plt\n",
    "import rc_animation as rc_ani\n",
    "import time\n",
    "startTime = time.time()\n",
    "from IPython.display import HTML"
   ]
  },
  {
   "cell_type": "markdown",
   "metadata": {
    "tags": []
   },
   "source": [
    "# Introduction to Rotation Curves"
   ]
  },
  {
   "cell_type": "markdown",
   "metadata": {},
   "source": [
    "A rotation curve plots the rotational velocity of stars in a galaxy in terms of how far they are from the center, also known as the radius. Using photometric data of the luminous matter, a rotation curve of a galaxy can be created. It is used to estimate the mass inside a radius by equating the centrifugal force to the gravitational force:\n",
    "\n",
    "\\begin{equation}\n",
    "\\frac{mv^2}{r}=\\frac{G M_{enc}(r)}{r^2}\n",
    "\\end{equation}\n",
    "<br>\n",
    ">where:<br>\n",
    "        $v$ = rotational velocity<br>\n",
    "        $G$ = gravitational constant<br>\n",
    "        $M_{enc}(r)$ = enclosed mass as a function of radius<br>\n",
    "        $r$ = radius or distance from the center of the galaxy\n",
    "    <br>\n",
    "\n",
    "Rotation curves of some spiral galaxies reveal a discrepancy in the measured and luminous mass. The relationship between the rotational velocity and mass is important to the study of Dark Matter. Plotting the rotation curves of edge-on spiral galaxies and their components can be used as a tool to find the Dark Matter rotation curve and its corresponding mass."
   ]
  },
  {
   "cell_type": "markdown",
   "metadata": {},
   "source": [
    "This notebook aims to demonstrate three different rotation curve types - rigid body (frisbee) rotation, planet-like rotation, and flat rotation."
   ]
  },
  {
   "cell_type": "markdown",
   "metadata": {},
   "source": [
    "### Rigid body (frisbee) rotation\n",
    "\n",
    "The most straight forward rotation curve is that of a rigid body, i.e. a solid disk. The rotational velocity in this case is proportional to the radius of the rotating object, which can be denoted by:\n",
    "\n",
    "\\begin{equation}\n",
    "v \\propto r\n",
    "\\end{equation}\n",
    "\n",
    "Because of this, the rigid body has a rotation curve that increases linearly with radius. To demonstrate this, let's create two arrays for the radius and the rotational velocity called `radiusRB` and `velocityRB`, respectively:"
   ]
  },
  {
   "cell_type": "code",
   "execution_count": 2,
   "metadata": {},
   "outputs": [],
   "source": [
    "radiusRB = np.array([1,2,3,4,5])\n",
    "velocityRB = np.array([0.1,0.2,0.3,0.4,0.5])"
   ]
  },
  {
   "cell_type": "code",
   "execution_count": 3,
   "metadata": {},
   "outputs": [
    {
     "data": {
      "text/html": [
       "<img src=\"images/rigidbody.gif\" width=400>"
      ],
      "text/plain": [
       "<IPython.core.display.HTML object>"
      ]
     },
     "metadata": {},
     "output_type": "display_data"
    }
   ],
   "source": [
    "try: # Display animation\n",
    "    display(HTML('<img src=\"images/rigidbody.gif\" width=400>'))\n",
    "except FileNotFoundError: #Make it first\n",
    "    rc_ani.MakeAnimation(radiusRB,velocityRB,\n",
    "                         100,1,                                         # time and dt\n",
    "                         'images/rigidbody.gif','Rigid Body Rotation')  # file name and title of plot\n",
    "    display(HTML('<img src=\"images/rigidbody.gif\" width=400>'))"
   ]
  },
  {
   "cell_type": "code",
   "execution_count": 4,
   "metadata": {},
   "outputs": [
    {
     "data": {
      "image/png": "[encoded data removed]",
      "text/plain": [
       "<Figure size 432x432 with 1 Axes>"
      ]
     },
     "metadata": {},
     "output_type": "display_data"
    }
   ],
   "source": [
    "rc_ani.PlotRotationCurve(radiusRB,velocityRB,'Rigid Body Rotation Curve')"
   ]
  },
  {
   "cell_type": "markdown",
   "metadata": {},
   "source": [
    "** SOME CONCLUDING SENTENCE FOR RIGID BODY ROTATION GOES HERE **"
   ]
  },
  {
   "cell_type": "markdown",
   "metadata": {},
   "source": [
    "### Planet-like rotation\n",
    "\n",
    "Non-rigid rotating bodies have more flexibility in their rotation. The most well-known example is the Keplerian model, which models orbital rotation in solar systems and planetary motion. This model has most of its mass concentrated in the center of the rotating object with satellites free to orbit around the center. With planet-like rotation, rotational velocity is inversely proportional to the square root of the radius:\n",
    "\n",
    "\\begin{equation}\n",
    "v \\propto \\frac{1}{\\sqrt{r}}\n",
    "\\end{equation}"
   ]
  },
  {
   "cell_type": "markdown",
   "metadata": {},
   "source": [
    "One example is our Solar System with eight planets orbiting the Sun at the center. "
   ]
  },
  {
   "cell_type": "code",
   "execution_count": 5,
   "metadata": {},
   "outputs": [],
   "source": [
    "# Parameters\n",
    "G = 6.67408e-11         # Gravitational constant (in m^3 kg^-1 s^-2)\n",
    "AU = 1.496e11           # AU Astronomical Unit (in meters)\n",
    "\n",
    "# Masses of the planets (M) in kg\n",
    "M_Earth = 5.97e24      \n",
    "M_Sun = 3.3e5*M_Earth\n",
    "M_Mercury = 0.0553*M_Earth\n",
    "M_Venus = 0.815*M_Earth\n",
    "M_Mars = 0.107*M_Earth\n",
    "M_Jupiter = 317.8*M_Earth\n",
    "M_Saturn = 95.2*M_Earth\n",
    "M_Uranus = 14.5*M_Earth\n",
    "M_Neptune = 17.1*M_Earth\n",
    "\n",
    "# Make array of masses\n",
    "massesSS = np.array([M_Mercury,M_Venus,M_Earth,M_Mars,M_Jupiter,M_Saturn,M_Uranus,M_Neptune])\n",
    "\n",
    "# Distances of planets from the Sun (r) in meters\n",
    "r_Earth = AU\n",
    "r_Mercury = 0.387*AU \n",
    "r_Venus = 0.723*AU\n",
    "r_Mars = 1.52*AU\n",
    "r_Jupiter = 5.20*AU\n",
    "r_Saturn = 9.57*AU\n",
    "r_Uranus = 19.17*AU\n",
    "r_Neptune = 30.18*AU\n",
    "\n",
    "# Make array of radii\n",
    "radiusSS = np.array([r_Mercury,r_Venus,r_Earth,r_Mars,r_Jupiter,r_Saturn,r_Uranus,r_Neptune])\n",
    "\n",
    "# Orbital velocity of planets (v) in m/s\n",
    "v_Mercury = np.sqrt((G*M_Sun)/r_Mercury)\n",
    "v_Venus = np.sqrt((G*(M_Sun+M_Mercury))/r_Venus)\n",
    "v_Earth = np.sqrt((G*(M_Sun+M_Mercury+M_Venus))/r_Earth)\n",
    "v_Mars = np.sqrt((G*(M_Sun+M_Mercury+M_Venus+M_Earth))/r_Mars)\n",
    "v_Jupiter = np.sqrt((G*(M_Sun+M_Mercury+M_Venus+M_Earth+M_Mars))/r_Jupiter)\n",
    "v_Saturn = np.sqrt((G*(M_Sun+M_Mercury+M_Venus+M_Earth+M_Mars+M_Jupiter))/r_Saturn)\n",
    "v_Uranus = np.sqrt((G*(M_Sun+M_Mercury+M_Venus+M_Earth+M_Mars+M_Jupiter+M_Saturn))/r_Uranus)\n",
    "v_Neptune = np.sqrt((G*(M_Sun+M_Mercury+M_Venus+M_Earth+M_Mars+M_Jupiter+M_Saturn+M_Uranus))/r_Neptune)\n",
    "\n",
    "# Make array of velocities\n",
    "velocitySS = np.array([v_Mercury,v_Venus,v_Earth,v_Mars,v_Jupiter,v_Saturn,v_Uranus,v_Neptune])"
   ]
  },
  {
   "cell_type": "code",
   "execution_count": 6,
   "metadata": {},
   "outputs": [],
   "source": [
    "try: #Load the animation if it already exists\n",
    "    HTML('<img src=\"images/solarsystem.gif width=400>') \n",
    "except FileNotFoundError: #And create it if it doesn't\n",
    "    rc_ani.MakeAnimation(1e-3*radiusSS,1e-3*velocitySS,   # change distance unit to km, velocity unit to km/s\n",
    "                         5e10,1e7,                        # time and dt\n",
    "                         'images/solarsystem.gif','Planet-like Rotation',\n",
    "                         1e8,1e8,                         # xlim and ylim\n",
    "                         size=True,masses=massesSS)    \n",
    "    # Display animation\n",
    "    HTML('<img src=\"images/solarsystem.gif\" width=400>')"
   ]
  },
  {
   "cell_type": "code",
   "execution_count": 7,
   "metadata": {},
   "outputs": [
    {
     "data": {
      "image/png": "[encoded data removed]",
      "text/plain": [
       "<Figure size 432x432 with 1 Axes>"
      ]
     },
     "metadata": {},
     "output_type": "display_data"
    }
   ],
   "source": [
    "rc_ani.PlotRotationCurve(1e-3*radiusSS,1e-3*velocitySS,\n",
    "                  'Planet-like Rotation Curve',\n",
    "                  xlabel='Radius (km)',ylabel='Velocity (km/s)',\n",
    "                  xlim=1e8,ylim=5)"
   ]
  },
  {
   "cell_type": "markdown",
   "metadata": {},
   "source": [
    "** SOME CONCLUDING SENTENCE FOR PLANET-LIKE ROTATION GOES HERE **"
   ]
  },
  {
   "cell_type": "markdown",
   "metadata": {},
   "source": [
    "### Flat rotation\n",
    " \n",
    "The mass distribution of a galaxy based on luminous matter is similar to the mass distribution of the Keplerian model. Surprisingly, some of the rotation curves of galaxies are entirely different than the rotation curve of planetary motion. The curve for spiral galaxies quickly increases from the center to a relatively constant velocity: \n",
    "\n",
    "\\begin{equation}\n",
    "v \\sim constant\n",
    "\\end{equation}\n",
    "\n",
    "This type of rotation curve suggests there is more mass in the galaxy than we can \"see\". This 'missing mass' is what we call Dark Matter."
   ]
  },
  {
   "cell_type": "code",
   "execution_count": 8,
   "metadata": {},
   "outputs": [],
   "source": [
    "# Arbitrary distance and velocity for animation and plot\n",
    "radiusFR = np.array([1,2,3,4,5,6,7])\n",
    "velocityFR = np.array([0.1,0.24,0.29,0.31,0.31,0.31,0.31])"
   ]
  },
  {
   "cell_type": "code",
   "execution_count": 9,
   "metadata": {},
   "outputs": [
    {
     "data": {
      "text/html": [
       "<img src=\"images/flatrotation.gif\" width=400>"
      ],
      "text/plain": [
       "<IPython.core.display.HTML object>"
      ]
     },
     "metadata": {},
     "output_type": "display_data"
    }
   ],
   "source": [
    "try:\n",
    "    display(HTML('<img src=\"images/flatrotation.gif\" width=400>'))\n",
    "except FileNotFoundError:\n",
    "    rc_ani.MakeAnimation(radiusFR,velocityFR,\n",
    "                         200,1,                                       # time and dt\n",
    "                         'images/flatrotation.gif','Flat Rotation')   # file name and title of plot\n",
    "    # Display animation\n",
    "    display(HTML('<img src=\"images/flatrotation.gif\" width=400>'))"
   ]
  },
  {
   "cell_type": "code",
   "execution_count": 10,
   "metadata": {},
   "outputs": [
    {
     "data": {
      "image/png": "[encoded data removed]",
      "text/plain": [
       "<Figure size 432x432 with 1 Axes>"
      ]
     },
     "metadata": {},
     "output_type": "display_data"
    }
   ],
   "source": [
    "rc_ani.PlotRotationCurve(radiusFR,velocityFR,'Flat Rotation Curve')"
   ]
  },
  {
   "cell_type": "markdown",
   "metadata": {},
   "source": [
    "** SOME CONCLUDING SENTENCE FOR PLANET-LIKE ROTATION GOES HERE **"
   ]
  },
  {
   "cell_type": "code",
   "execution_count": 11,
   "metadata": {},
   "outputs": [
    {
     "name": "stdout",
     "output_type": "stream",
     "text": [
      "Execution time: 0.01 minutes\n"
     ]
    }
   ],
   "source": [
    "# Calculation time\n",
    "executionTime3 = (time.time() - startTime)\n",
    "ttt3=executionTime3/60\n",
    "print(f'Execution time: {ttt3:.2f} minutes')"
   ]
  },
  {
   "cell_type": "markdown",
   "metadata": {},
   "source": [
    "### References\n",
    ">Carroll, B. W., &amp; Ostlie, D. A. (2018). **An Introduction to Modern Astrophysics**. Cambridge University Press. <br><br>\n",
    ">Williams, D. (2021, December 27). **Planetary Fact Sheet**. NASA. Retrieved February 27, 2022, from https://nssdc.gsfc.nasa.gov/planetary/factsheet/"
   ]
  }
 ],
 "metadata": {
  "kernelspec": {
   "display_name": "galactic-spin",
   "language": "python",
   "name": "galactic-spin"
  },
  "language_info": {
   "codemirror_mode": {
    "name": "ipython",
    "version": 3
   },
   "file_extension": ".py",
   "mimetype": "text/x-python",
   "name": "python",
   "nbconvert_exporter": "python",
   "pygments_lexer": "ipython3",
   "version": "3.9.7"
  }
 },
 "nbformat": 4,
 "nbformat_minor": 4
}
